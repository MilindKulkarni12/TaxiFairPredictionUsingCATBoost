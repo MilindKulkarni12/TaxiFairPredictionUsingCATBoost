{
 "cells": [
  {
   "cell_type": "code",
   "execution_count": 1,
   "id": "initial_id",
   "metadata": {
    "ExecuteTime": {
     "end_time": "2024-05-12T01:09:05.056193300Z",
     "start_time": "2024-05-12T01:09:05.026659900Z"
    }
   },
   "outputs": [],
   "source": [
    "import pandas as pd\n",
    "import numpy as np\n",
    "import matplotlib.pyplot as plt\n",
    "import seaborn as sns"
   ]
  },
  {
   "cell_type": "code",
   "execution_count": 2,
   "id": "f0a552cbf5a3ff03",
   "metadata": {
    "ExecuteTime": {
     "end_time": "2024-05-12T01:09:05.066761700Z",
     "start_time": "2024-05-12T01:09:05.034667500Z"
    },
    "collapsed": false,
    "jupyter": {
     "outputs_hidden": false
    }
   },
   "outputs": [],
   "source": [
    "sns.set()"
   ]
  },
  {
   "cell_type": "code",
   "execution_count": 3,
   "id": "df6e37135565219c",
   "metadata": {
    "ExecuteTime": {
     "end_time": "2024-05-12T01:09:07.275198200Z",
     "start_time": "2024-05-12T01:09:05.052073300Z"
    },
    "collapsed": false,
    "jupyter": {
     "outputs_hidden": false
    }
   },
   "outputs": [],
   "source": [
    "df = pd.read_parquet('./dataset/')"
   ]
  },
  {
   "cell_type": "code",
   "execution_count": 4,
   "id": "dc3ff0cc03e84803",
   "metadata": {
    "ExecuteTime": {
     "end_time": "2024-05-12T01:09:07.374433100Z",
     "start_time": "2024-05-12T01:09:07.277612800Z"
    },
    "collapsed": false,
    "jupyter": {
     "outputs_hidden": false
    }
   },
   "outputs": [
    {
     "data": {
      "text/html": [
       "<div>\n",
       "<style scoped>\n",
       "    .dataframe tbody tr th:only-of-type {\n",
       "        vertical-align: middle;\n",
       "    }\n",
       "\n",
       "    .dataframe tbody tr th {\n",
       "        vertical-align: top;\n",
       "    }\n",
       "\n",
       "    .dataframe thead th {\n",
       "        text-align: right;\n",
       "    }\n",
       "</style>\n",
       "<table border=\"1\" class=\"dataframe\">\n",
       "  <thead>\n",
       "    <tr style=\"text-align: right;\">\n",
       "      <th></th>\n",
       "      <th>VendorID</th>\n",
       "      <th>tpep_pickup_datetime</th>\n",
       "      <th>tpep_dropoff_datetime</th>\n",
       "      <th>passenger_count</th>\n",
       "      <th>trip_distance</th>\n",
       "      <th>RatecodeID</th>\n",
       "      <th>store_and_fwd_flag</th>\n",
       "      <th>PULocationID</th>\n",
       "      <th>DOLocationID</th>\n",
       "      <th>payment_type</th>\n",
       "      <th>fare_amount</th>\n",
       "      <th>extra</th>\n",
       "      <th>mta_tax</th>\n",
       "      <th>tip_amount</th>\n",
       "      <th>tolls_amount</th>\n",
       "      <th>improvement_surcharge</th>\n",
       "      <th>total_amount</th>\n",
       "      <th>congestion_surcharge</th>\n",
       "      <th>Airport_fee</th>\n",
       "    </tr>\n",
       "  </thead>\n",
       "  <tbody>\n",
       "    <tr>\n",
       "      <th>0</th>\n",
       "      <td>2</td>\n",
       "      <td>2024-01-01 00:57:55</td>\n",
       "      <td>2024-01-01 01:17:43</td>\n",
       "      <td>1.0</td>\n",
       "      <td>1.72</td>\n",
       "      <td>1.0</td>\n",
       "      <td>N</td>\n",
       "      <td>186</td>\n",
       "      <td>79</td>\n",
       "      <td>2</td>\n",
       "      <td>17.7</td>\n",
       "      <td>1.0</td>\n",
       "      <td>0.5</td>\n",
       "      <td>0.00</td>\n",
       "      <td>0.0</td>\n",
       "      <td>1.0</td>\n",
       "      <td>22.70</td>\n",
       "      <td>2.5</td>\n",
       "      <td>0.0</td>\n",
       "    </tr>\n",
       "    <tr>\n",
       "      <th>1</th>\n",
       "      <td>1</td>\n",
       "      <td>2024-01-01 00:03:00</td>\n",
       "      <td>2024-01-01 00:09:36</td>\n",
       "      <td>1.0</td>\n",
       "      <td>1.80</td>\n",
       "      <td>1.0</td>\n",
       "      <td>N</td>\n",
       "      <td>140</td>\n",
       "      <td>236</td>\n",
       "      <td>1</td>\n",
       "      <td>10.0</td>\n",
       "      <td>3.5</td>\n",
       "      <td>0.5</td>\n",
       "      <td>3.75</td>\n",
       "      <td>0.0</td>\n",
       "      <td>1.0</td>\n",
       "      <td>18.75</td>\n",
       "      <td>2.5</td>\n",
       "      <td>0.0</td>\n",
       "    </tr>\n",
       "    <tr>\n",
       "      <th>2</th>\n",
       "      <td>1</td>\n",
       "      <td>2024-01-01 00:17:06</td>\n",
       "      <td>2024-01-01 00:35:01</td>\n",
       "      <td>1.0</td>\n",
       "      <td>4.70</td>\n",
       "      <td>1.0</td>\n",
       "      <td>N</td>\n",
       "      <td>236</td>\n",
       "      <td>79</td>\n",
       "      <td>1</td>\n",
       "      <td>23.3</td>\n",
       "      <td>3.5</td>\n",
       "      <td>0.5</td>\n",
       "      <td>3.00</td>\n",
       "      <td>0.0</td>\n",
       "      <td>1.0</td>\n",
       "      <td>31.30</td>\n",
       "      <td>2.5</td>\n",
       "      <td>0.0</td>\n",
       "    </tr>\n",
       "    <tr>\n",
       "      <th>3</th>\n",
       "      <td>1</td>\n",
       "      <td>2024-01-01 00:36:38</td>\n",
       "      <td>2024-01-01 00:44:56</td>\n",
       "      <td>1.0</td>\n",
       "      <td>1.40</td>\n",
       "      <td>1.0</td>\n",
       "      <td>N</td>\n",
       "      <td>79</td>\n",
       "      <td>211</td>\n",
       "      <td>1</td>\n",
       "      <td>10.0</td>\n",
       "      <td>3.5</td>\n",
       "      <td>0.5</td>\n",
       "      <td>2.00</td>\n",
       "      <td>0.0</td>\n",
       "      <td>1.0</td>\n",
       "      <td>17.00</td>\n",
       "      <td>2.5</td>\n",
       "      <td>0.0</td>\n",
       "    </tr>\n",
       "    <tr>\n",
       "      <th>4</th>\n",
       "      <td>1</td>\n",
       "      <td>2024-01-01 00:46:51</td>\n",
       "      <td>2024-01-01 00:52:57</td>\n",
       "      <td>1.0</td>\n",
       "      <td>0.80</td>\n",
       "      <td>1.0</td>\n",
       "      <td>N</td>\n",
       "      <td>211</td>\n",
       "      <td>148</td>\n",
       "      <td>1</td>\n",
       "      <td>7.9</td>\n",
       "      <td>3.5</td>\n",
       "      <td>0.5</td>\n",
       "      <td>3.20</td>\n",
       "      <td>0.0</td>\n",
       "      <td>1.0</td>\n",
       "      <td>16.10</td>\n",
       "      <td>2.5</td>\n",
       "      <td>0.0</td>\n",
       "    </tr>\n",
       "  </tbody>\n",
       "</table>\n",
       "</div>"
      ],
      "text/plain": [
       "   VendorID tpep_pickup_datetime tpep_dropoff_datetime  passenger_count  \\\n",
       "0         2  2024-01-01 00:57:55   2024-01-01 01:17:43              1.0   \n",
       "1         1  2024-01-01 00:03:00   2024-01-01 00:09:36              1.0   \n",
       "2         1  2024-01-01 00:17:06   2024-01-01 00:35:01              1.0   \n",
       "3         1  2024-01-01 00:36:38   2024-01-01 00:44:56              1.0   \n",
       "4         1  2024-01-01 00:46:51   2024-01-01 00:52:57              1.0   \n",
       "\n",
       "   trip_distance  RatecodeID store_and_fwd_flag  PULocationID  DOLocationID  \\\n",
       "0           1.72         1.0                  N           186            79   \n",
       "1           1.80         1.0                  N           140           236   \n",
       "2           4.70         1.0                  N           236            79   \n",
       "3           1.40         1.0                  N            79           211   \n",
       "4           0.80         1.0                  N           211           148   \n",
       "\n",
       "   payment_type  fare_amount  extra  mta_tax  tip_amount  tolls_amount  \\\n",
       "0             2         17.7    1.0      0.5        0.00           0.0   \n",
       "1             1         10.0    3.5      0.5        3.75           0.0   \n",
       "2             1         23.3    3.5      0.5        3.00           0.0   \n",
       "3             1         10.0    3.5      0.5        2.00           0.0   \n",
       "4             1          7.9    3.5      0.5        3.20           0.0   \n",
       "\n",
       "   improvement_surcharge  total_amount  congestion_surcharge  Airport_fee  \n",
       "0                    1.0         22.70                   2.5          0.0  \n",
       "1                    1.0         18.75                   2.5          0.0  \n",
       "2                    1.0         31.30                   2.5          0.0  \n",
       "3                    1.0         17.00                   2.5          0.0  \n",
       "4                    1.0         16.10                   2.5          0.0  "
      ]
     },
     "execution_count": 4,
     "metadata": {},
     "output_type": "execute_result"
    }
   ],
   "source": [
    "df.head()"
   ]
  },
  {
   "cell_type": "code",
   "execution_count": 5,
   "id": "590c72dba00d09d7",
   "metadata": {
    "ExecuteTime": {
     "end_time": "2024-05-12T01:09:07.551714400Z",
     "start_time": "2024-05-12T01:09:07.362737400Z"
    },
    "collapsed": false,
    "jupyter": {
     "outputs_hidden": false
    }
   },
   "outputs": [
    {
     "data": {
      "text/html": [
       "<div>\n",
       "<style scoped>\n",
       "    .dataframe tbody tr th:only-of-type {\n",
       "        vertical-align: middle;\n",
       "    }\n",
       "\n",
       "    .dataframe tbody tr th {\n",
       "        vertical-align: top;\n",
       "    }\n",
       "\n",
       "    .dataframe thead th {\n",
       "        text-align: right;\n",
       "    }\n",
       "</style>\n",
       "<table border=\"1\" class=\"dataframe\">\n",
       "  <thead>\n",
       "    <tr style=\"text-align: right;\">\n",
       "      <th></th>\n",
       "      <th>VendorID</th>\n",
       "      <th>tpep_pickup_datetime</th>\n",
       "      <th>tpep_dropoff_datetime</th>\n",
       "      <th>passenger_count</th>\n",
       "      <th>trip_distance</th>\n",
       "      <th>RatecodeID</th>\n",
       "      <th>store_and_fwd_flag</th>\n",
       "      <th>PULocationID</th>\n",
       "      <th>DOLocationID</th>\n",
       "      <th>payment_type</th>\n",
       "      <th>fare_amount</th>\n",
       "      <th>extra</th>\n",
       "      <th>mta_tax</th>\n",
       "      <th>tip_amount</th>\n",
       "      <th>tolls_amount</th>\n",
       "      <th>improvement_surcharge</th>\n",
       "      <th>total_amount</th>\n",
       "      <th>congestion_surcharge</th>\n",
       "      <th>Airport_fee</th>\n",
       "    </tr>\n",
       "  </thead>\n",
       "  <tbody>\n",
       "    <tr>\n",
       "      <th>5972145</th>\n",
       "      <td>2</td>\n",
       "      <td>2024-02-29 23:20:17</td>\n",
       "      <td>2024-02-29 23:28:25</td>\n",
       "      <td>NaN</td>\n",
       "      <td>0.35</td>\n",
       "      <td>NaN</td>\n",
       "      <td>None</td>\n",
       "      <td>164</td>\n",
       "      <td>170</td>\n",
       "      <td>0</td>\n",
       "      <td>21.02</td>\n",
       "      <td>0.0</td>\n",
       "      <td>0.5</td>\n",
       "      <td>0.0</td>\n",
       "      <td>0.0</td>\n",
       "      <td>1.0</td>\n",
       "      <td>25.02</td>\n",
       "      <td>NaN</td>\n",
       "      <td>NaN</td>\n",
       "    </tr>\n",
       "    <tr>\n",
       "      <th>5972146</th>\n",
       "      <td>2</td>\n",
       "      <td>2024-02-29 23:38:37</td>\n",
       "      <td>2024-02-29 23:49:37</td>\n",
       "      <td>NaN</td>\n",
       "      <td>1.99</td>\n",
       "      <td>NaN</td>\n",
       "      <td>None</td>\n",
       "      <td>249</td>\n",
       "      <td>45</td>\n",
       "      <td>0</td>\n",
       "      <td>18.78</td>\n",
       "      <td>0.0</td>\n",
       "      <td>0.5</td>\n",
       "      <td>0.0</td>\n",
       "      <td>0.0</td>\n",
       "      <td>1.0</td>\n",
       "      <td>22.78</td>\n",
       "      <td>NaN</td>\n",
       "      <td>NaN</td>\n",
       "    </tr>\n",
       "    <tr>\n",
       "      <th>5972147</th>\n",
       "      <td>2</td>\n",
       "      <td>2024-02-29 23:14:40</td>\n",
       "      <td>2024-02-29 23:19:29</td>\n",
       "      <td>NaN</td>\n",
       "      <td>0.84</td>\n",
       "      <td>NaN</td>\n",
       "      <td>None</td>\n",
       "      <td>113</td>\n",
       "      <td>249</td>\n",
       "      <td>0</td>\n",
       "      <td>8.82</td>\n",
       "      <td>0.0</td>\n",
       "      <td>0.5</td>\n",
       "      <td>0.0</td>\n",
       "      <td>0.0</td>\n",
       "      <td>1.0</td>\n",
       "      <td>12.82</td>\n",
       "      <td>NaN</td>\n",
       "      <td>NaN</td>\n",
       "    </tr>\n",
       "    <tr>\n",
       "      <th>5972148</th>\n",
       "      <td>1</td>\n",
       "      <td>2024-02-29 23:12:06</td>\n",
       "      <td>2024-02-29 23:21:53</td>\n",
       "      <td>NaN</td>\n",
       "      <td>0.00</td>\n",
       "      <td>NaN</td>\n",
       "      <td>None</td>\n",
       "      <td>164</td>\n",
       "      <td>107</td>\n",
       "      <td>0</td>\n",
       "      <td>14.37</td>\n",
       "      <td>0.0</td>\n",
       "      <td>0.5</td>\n",
       "      <td>0.0</td>\n",
       "      <td>0.0</td>\n",
       "      <td>1.0</td>\n",
       "      <td>18.37</td>\n",
       "      <td>NaN</td>\n",
       "      <td>NaN</td>\n",
       "    </tr>\n",
       "    <tr>\n",
       "      <th>5972149</th>\n",
       "      <td>2</td>\n",
       "      <td>2024-02-29 23:16:42</td>\n",
       "      <td>2024-02-29 23:37:45</td>\n",
       "      <td>NaN</td>\n",
       "      <td>3.94</td>\n",
       "      <td>NaN</td>\n",
       "      <td>None</td>\n",
       "      <td>79</td>\n",
       "      <td>142</td>\n",
       "      <td>0</td>\n",
       "      <td>28.60</td>\n",
       "      <td>0.0</td>\n",
       "      <td>0.5</td>\n",
       "      <td>0.0</td>\n",
       "      <td>0.0</td>\n",
       "      <td>1.0</td>\n",
       "      <td>32.60</td>\n",
       "      <td>NaN</td>\n",
       "      <td>NaN</td>\n",
       "    </tr>\n",
       "  </tbody>\n",
       "</table>\n",
       "</div>"
      ],
      "text/plain": [
       "         VendorID tpep_pickup_datetime tpep_dropoff_datetime  passenger_count  \\\n",
       "5972145         2  2024-02-29 23:20:17   2024-02-29 23:28:25              NaN   \n",
       "5972146         2  2024-02-29 23:38:37   2024-02-29 23:49:37              NaN   \n",
       "5972147         2  2024-02-29 23:14:40   2024-02-29 23:19:29              NaN   \n",
       "5972148         1  2024-02-29 23:12:06   2024-02-29 23:21:53              NaN   \n",
       "5972149         2  2024-02-29 23:16:42   2024-02-29 23:37:45              NaN   \n",
       "\n",
       "         trip_distance  RatecodeID store_and_fwd_flag  PULocationID  \\\n",
       "5972145           0.35         NaN               None           164   \n",
       "5972146           1.99         NaN               None           249   \n",
       "5972147           0.84         NaN               None           113   \n",
       "5972148           0.00         NaN               None           164   \n",
       "5972149           3.94         NaN               None            79   \n",
       "\n",
       "         DOLocationID  payment_type  fare_amount  extra  mta_tax  tip_amount  \\\n",
       "5972145           170             0        21.02    0.0      0.5         0.0   \n",
       "5972146            45             0        18.78    0.0      0.5         0.0   \n",
       "5972147           249             0         8.82    0.0      0.5         0.0   \n",
       "5972148           107             0        14.37    0.0      0.5         0.0   \n",
       "5972149           142             0        28.60    0.0      0.5         0.0   \n",
       "\n",
       "         tolls_amount  improvement_surcharge  total_amount  \\\n",
       "5972145           0.0                    1.0         25.02   \n",
       "5972146           0.0                    1.0         22.78   \n",
       "5972147           0.0                    1.0         12.82   \n",
       "5972148           0.0                    1.0         18.37   \n",
       "5972149           0.0                    1.0         32.60   \n",
       "\n",
       "         congestion_surcharge  Airport_fee  \n",
       "5972145                   NaN          NaN  \n",
       "5972146                   NaN          NaN  \n",
       "5972147                   NaN          NaN  \n",
       "5972148                   NaN          NaN  \n",
       "5972149                   NaN          NaN  "
      ]
     },
     "execution_count": 5,
     "metadata": {},
     "output_type": "execute_result"
    }
   ],
   "source": [
    "df.tail()"
   ]
  },
  {
   "cell_type": "code",
   "execution_count": 6,
   "id": "fa844fe7aff90819",
   "metadata": {
    "ExecuteTime": {
     "end_time": "2024-05-12T01:09:07.608710900Z",
     "start_time": "2024-05-12T01:09:07.436596300Z"
    },
    "collapsed": false,
    "jupyter": {
     "outputs_hidden": false
    }
   },
   "outputs": [
    {
     "data": {
      "text/plain": [
       "(5972150, 19)"
      ]
     },
     "execution_count": 6,
     "metadata": {},
     "output_type": "execute_result"
    }
   ],
   "source": [
    "df.shape"
   ]
  },
  {
   "cell_type": "code",
   "execution_count": 7,
   "id": "8f761c5f644e277e",
   "metadata": {
    "ExecuteTime": {
     "end_time": "2024-05-12T01:09:17.103555900Z",
     "start_time": "2024-05-12T01:09:07.451166500Z"
    },
    "collapsed": false,
    "jupyter": {
     "outputs_hidden": false
    }
   },
   "outputs": [
    {
     "data": {
      "text/html": [
       "<div>\n",
       "<style scoped>\n",
       "    .dataframe tbody tr th:only-of-type {\n",
       "        vertical-align: middle;\n",
       "    }\n",
       "\n",
       "    .dataframe tbody tr th {\n",
       "        vertical-align: top;\n",
       "    }\n",
       "\n",
       "    .dataframe thead th {\n",
       "        text-align: right;\n",
       "    }\n",
       "</style>\n",
       "<table border=\"1\" class=\"dataframe\">\n",
       "  <thead>\n",
       "    <tr style=\"text-align: right;\">\n",
       "      <th></th>\n",
       "      <th>VendorID</th>\n",
       "      <th>passenger_count</th>\n",
       "      <th>trip_distance</th>\n",
       "      <th>RatecodeID</th>\n",
       "      <th>PULocationID</th>\n",
       "      <th>DOLocationID</th>\n",
       "      <th>payment_type</th>\n",
       "      <th>fare_amount</th>\n",
       "      <th>extra</th>\n",
       "      <th>mta_tax</th>\n",
       "      <th>tip_amount</th>\n",
       "      <th>tolls_amount</th>\n",
       "      <th>improvement_surcharge</th>\n",
       "      <th>total_amount</th>\n",
       "      <th>congestion_surcharge</th>\n",
       "      <th>Airport_fee</th>\n",
       "    </tr>\n",
       "  </thead>\n",
       "  <tbody>\n",
       "    <tr>\n",
       "      <th>count</th>\n",
       "      <td>5.972150e+06</td>\n",
       "      <td>5.646378e+06</td>\n",
       "      <td>5.972150e+06</td>\n",
       "      <td>5.646378e+06</td>\n",
       "      <td>5.972150e+06</td>\n",
       "      <td>5.972150e+06</td>\n",
       "      <td>5.972150e+06</td>\n",
       "      <td>5.972150e+06</td>\n",
       "      <td>5.972150e+06</td>\n",
       "      <td>5.972150e+06</td>\n",
       "      <td>5.972150e+06</td>\n",
       "      <td>5.972150e+06</td>\n",
       "      <td>5.972150e+06</td>\n",
       "      <td>5.972150e+06</td>\n",
       "      <td>5.646378e+06</td>\n",
       "      <td>5.646378e+06</td>\n",
       "    </tr>\n",
       "    <tr>\n",
       "      <th>mean</th>\n",
       "      <td>1.754723e+00</td>\n",
       "      <td>1.332613e+00</td>\n",
       "      <td>3.757264e+00</td>\n",
       "      <td>2.092253e+00</td>\n",
       "      <td>1.657988e+02</td>\n",
       "      <td>1.648061e+02</td>\n",
       "      <td>1.148489e+00</td>\n",
       "      <td>1.811072e+01</td>\n",
       "      <td>1.448330e+00</td>\n",
       "      <td>4.833992e-01</td>\n",
       "      <td>3.319238e+00</td>\n",
       "      <td>5.172432e-01</td>\n",
       "      <td>9.754978e-01</td>\n",
       "      <td>2.671232e+01</td>\n",
       "      <td>2.261295e+00</td>\n",
       "      <td>1.351430e-01</td>\n",
       "    </tr>\n",
       "    <tr>\n",
       "      <th>std</th>\n",
       "      <td>4.312623e-01</td>\n",
       "      <td>8.414196e-01</td>\n",
       "      <td>2.406166e+02</td>\n",
       "      <td>9.946784e+00</td>\n",
       "      <td>6.379422e+01</td>\n",
       "      <td>6.930429e+01</td>\n",
       "      <td>5.858684e-01</td>\n",
       "      <td>1.879168e+01</td>\n",
       "      <td>1.800763e+00</td>\n",
       "      <td>1.177540e-01</td>\n",
       "      <td>3.862271e+00</td>\n",
       "      <td>2.104544e+00</td>\n",
       "      <td>2.187255e-01</td>\n",
       "      <td>2.317853e+01</td>\n",
       "      <td>8.183577e-01</td>\n",
       "      <td>4.783123e-01</td>\n",
       "    </tr>\n",
       "    <tr>\n",
       "      <th>min</th>\n",
       "      <td>1.000000e+00</td>\n",
       "      <td>0.000000e+00</td>\n",
       "      <td>0.000000e+00</td>\n",
       "      <td>1.000000e+00</td>\n",
       "      <td>1.000000e+00</td>\n",
       "      <td>1.000000e+00</td>\n",
       "      <td>0.000000e+00</td>\n",
       "      <td>-9.990000e+02</td>\n",
       "      <td>-7.500000e+00</td>\n",
       "      <td>-5.000000e-01</td>\n",
       "      <td>-1.400000e+02</td>\n",
       "      <td>-8.000000e+01</td>\n",
       "      <td>-1.000000e+00</td>\n",
       "      <td>-1.000000e+03</td>\n",
       "      <td>-2.500000e+00</td>\n",
       "      <td>-1.750000e+00</td>\n",
       "    </tr>\n",
       "    <tr>\n",
       "      <th>25%</th>\n",
       "      <td>2.000000e+00</td>\n",
       "      <td>1.000000e+00</td>\n",
       "      <td>1.000000e+00</td>\n",
       "      <td>1.000000e+00</td>\n",
       "      <td>1.320000e+02</td>\n",
       "      <td>1.140000e+02</td>\n",
       "      <td>1.000000e+00</td>\n",
       "      <td>8.600000e+00</td>\n",
       "      <td>0.000000e+00</td>\n",
       "      <td>5.000000e-01</td>\n",
       "      <td>1.000000e+00</td>\n",
       "      <td>0.000000e+00</td>\n",
       "      <td>1.000000e+00</td>\n",
       "      <td>1.540000e+01</td>\n",
       "      <td>2.500000e+00</td>\n",
       "      <td>0.000000e+00</td>\n",
       "    </tr>\n",
       "    <tr>\n",
       "      <th>50%</th>\n",
       "      <td>2.000000e+00</td>\n",
       "      <td>1.000000e+00</td>\n",
       "      <td>1.690000e+00</td>\n",
       "      <td>1.000000e+00</td>\n",
       "      <td>1.620000e+02</td>\n",
       "      <td>1.620000e+02</td>\n",
       "      <td>1.000000e+00</td>\n",
       "      <td>1.280000e+01</td>\n",
       "      <td>1.000000e+00</td>\n",
       "      <td>5.000000e-01</td>\n",
       "      <td>2.700000e+00</td>\n",
       "      <td>0.000000e+00</td>\n",
       "      <td>1.000000e+00</td>\n",
       "      <td>2.016000e+01</td>\n",
       "      <td>2.500000e+00</td>\n",
       "      <td>0.000000e+00</td>\n",
       "    </tr>\n",
       "    <tr>\n",
       "      <th>75%</th>\n",
       "      <td>2.000000e+00</td>\n",
       "      <td>1.000000e+00</td>\n",
       "      <td>3.100000e+00</td>\n",
       "      <td>1.000000e+00</td>\n",
       "      <td>2.340000e+02</td>\n",
       "      <td>2.340000e+02</td>\n",
       "      <td>1.000000e+00</td>\n",
       "      <td>2.050000e+01</td>\n",
       "      <td>2.500000e+00</td>\n",
       "      <td>5.000000e-01</td>\n",
       "      <td>4.120000e+00</td>\n",
       "      <td>0.000000e+00</td>\n",
       "      <td>1.000000e+00</td>\n",
       "      <td>2.856000e+01</td>\n",
       "      <td>2.500000e+00</td>\n",
       "      <td>0.000000e+00</td>\n",
       "    </tr>\n",
       "    <tr>\n",
       "      <th>max</th>\n",
       "      <td>6.000000e+00</td>\n",
       "      <td>9.000000e+00</td>\n",
       "      <td>3.127223e+05</td>\n",
       "      <td>9.900000e+01</td>\n",
       "      <td>2.650000e+02</td>\n",
       "      <td>2.650000e+02</td>\n",
       "      <td>4.000000e+00</td>\n",
       "      <td>9.792000e+03</td>\n",
       "      <td>1.425000e+01</td>\n",
       "      <td>5.750000e+00</td>\n",
       "      <td>5.433300e+02</td>\n",
       "      <td>1.159200e+02</td>\n",
       "      <td>1.000000e+00</td>\n",
       "      <td>9.792000e+03</td>\n",
       "      <td>2.500000e+00</td>\n",
       "      <td>1.750000e+00</td>\n",
       "    </tr>\n",
       "  </tbody>\n",
       "</table>\n",
       "</div>"
      ],
      "text/plain": [
       "           VendorID  passenger_count  trip_distance    RatecodeID  \\\n",
       "count  5.972150e+06     5.646378e+06   5.972150e+06  5.646378e+06   \n",
       "mean   1.754723e+00     1.332613e+00   3.757264e+00  2.092253e+00   \n",
       "std    4.312623e-01     8.414196e-01   2.406166e+02  9.946784e+00   \n",
       "min    1.000000e+00     0.000000e+00   0.000000e+00  1.000000e+00   \n",
       "25%    2.000000e+00     1.000000e+00   1.000000e+00  1.000000e+00   \n",
       "50%    2.000000e+00     1.000000e+00   1.690000e+00  1.000000e+00   \n",
       "75%    2.000000e+00     1.000000e+00   3.100000e+00  1.000000e+00   \n",
       "max    6.000000e+00     9.000000e+00   3.127223e+05  9.900000e+01   \n",
       "\n",
       "       PULocationID  DOLocationID  payment_type   fare_amount         extra  \\\n",
       "count  5.972150e+06  5.972150e+06  5.972150e+06  5.972150e+06  5.972150e+06   \n",
       "mean   1.657988e+02  1.648061e+02  1.148489e+00  1.811072e+01  1.448330e+00   \n",
       "std    6.379422e+01  6.930429e+01  5.858684e-01  1.879168e+01  1.800763e+00   \n",
       "min    1.000000e+00  1.000000e+00  0.000000e+00 -9.990000e+02 -7.500000e+00   \n",
       "25%    1.320000e+02  1.140000e+02  1.000000e+00  8.600000e+00  0.000000e+00   \n",
       "50%    1.620000e+02  1.620000e+02  1.000000e+00  1.280000e+01  1.000000e+00   \n",
       "75%    2.340000e+02  2.340000e+02  1.000000e+00  2.050000e+01  2.500000e+00   \n",
       "max    2.650000e+02  2.650000e+02  4.000000e+00  9.792000e+03  1.425000e+01   \n",
       "\n",
       "            mta_tax    tip_amount  tolls_amount  improvement_surcharge  \\\n",
       "count  5.972150e+06  5.972150e+06  5.972150e+06           5.972150e+06   \n",
       "mean   4.833992e-01  3.319238e+00  5.172432e-01           9.754978e-01   \n",
       "std    1.177540e-01  3.862271e+00  2.104544e+00           2.187255e-01   \n",
       "min   -5.000000e-01 -1.400000e+02 -8.000000e+01          -1.000000e+00   \n",
       "25%    5.000000e-01  1.000000e+00  0.000000e+00           1.000000e+00   \n",
       "50%    5.000000e-01  2.700000e+00  0.000000e+00           1.000000e+00   \n",
       "75%    5.000000e-01  4.120000e+00  0.000000e+00           1.000000e+00   \n",
       "max    5.750000e+00  5.433300e+02  1.159200e+02           1.000000e+00   \n",
       "\n",
       "       total_amount  congestion_surcharge   Airport_fee  \n",
       "count  5.972150e+06          5.646378e+06  5.646378e+06  \n",
       "mean   2.671232e+01          2.261295e+00  1.351430e-01  \n",
       "std    2.317853e+01          8.183577e-01  4.783123e-01  \n",
       "min   -1.000000e+03         -2.500000e+00 -1.750000e+00  \n",
       "25%    1.540000e+01          2.500000e+00  0.000000e+00  \n",
       "50%    2.016000e+01          2.500000e+00  0.000000e+00  \n",
       "75%    2.856000e+01          2.500000e+00  0.000000e+00  \n",
       "max    9.792000e+03          2.500000e+00  1.750000e+00  "
      ]
     },
     "execution_count": 7,
     "metadata": {},
     "output_type": "execute_result"
    }
   ],
   "source": [
    "df.describe()"
   ]
  },
  {
   "cell_type": "code",
   "execution_count": 8,
   "id": "8f12c2099fc33e7f",
   "metadata": {
    "ExecuteTime": {
     "end_time": "2024-05-12T01:09:17.170264300Z",
     "start_time": "2024-05-12T01:09:17.103555900Z"
    },
    "collapsed": false,
    "jupyter": {
     "outputs_hidden": false
    }
   },
   "outputs": [
    {
     "data": {
      "text/plain": [
       "VendorID                          int32\n",
       "tpep_pickup_datetime     datetime64[ns]\n",
       "tpep_dropoff_datetime    datetime64[ns]\n",
       "passenger_count                 float64\n",
       "trip_distance                   float64\n",
       "RatecodeID                      float64\n",
       "store_and_fwd_flag               object\n",
       "PULocationID                      int32\n",
       "DOLocationID                      int32\n",
       "payment_type                      int64\n",
       "fare_amount                     float64\n",
       "extra                           float64\n",
       "mta_tax                         float64\n",
       "tip_amount                      float64\n",
       "tolls_amount                    float64\n",
       "improvement_surcharge           float64\n",
       "total_amount                    float64\n",
       "congestion_surcharge            float64\n",
       "Airport_fee                     float64\n",
       "dtype: object"
      ]
     },
     "execution_count": 8,
     "metadata": {},
     "output_type": "execute_result"
    }
   ],
   "source": [
    "df.dtypes"
   ]
  },
  {
   "cell_type": "code",
   "execution_count": 9,
   "id": "c68361b3294f833d",
   "metadata": {
    "ExecuteTime": {
     "end_time": "2024-05-12T01:09:17.925549800Z",
     "start_time": "2024-05-12T01:09:17.144819900Z"
    },
    "collapsed": false,
    "jupyter": {
     "outputs_hidden": false
    }
   },
   "outputs": [],
   "source": [
    "df = df.drop(['Airport_fee', 'VendorID', 'congestion_surcharge'], axis= 1)"
   ]
  },
  {
   "cell_type": "code",
   "execution_count": 10,
   "id": "6362e30a1f09045",
   "metadata": {
    "ExecuteTime": {
     "end_time": "2024-05-12T01:09:17.990404500Z",
     "start_time": "2024-05-12T01:09:17.873956500Z"
    },
    "collapsed": false,
    "jupyter": {
     "outputs_hidden": false
    }
   },
   "outputs": [
    {
     "data": {
      "text/plain": [
       "72438"
      ]
     },
     "execution_count": 10,
     "metadata": {},
     "output_type": "execute_result"
    }
   ],
   "source": [
    "len(df[df['total_amount'] <= 0])"
   ]
  },
  {
   "cell_type": "code",
   "execution_count": 11,
   "id": "e6d028e61b8fa676",
   "metadata": {
    "ExecuteTime": {
     "end_time": "2024-05-12T01:09:18.785053300Z",
     "start_time": "2024-05-12T01:09:18.002440700Z"
    },
    "collapsed": false,
    "jupyter": {
     "outputs_hidden": false
    }
   },
   "outputs": [],
   "source": [
    "df = df[df['total_amount'] > 0]"
   ]
  },
  {
   "cell_type": "code",
   "execution_count": 12,
   "id": "f40bbbcc76328114",
   "metadata": {
    "ExecuteTime": {
     "end_time": "2024-05-12T01:09:18.890348200Z",
     "start_time": "2024-05-12T01:09:18.758285Z"
    },
    "collapsed": false,
    "jupyter": {
     "outputs_hidden": false
    }
   },
   "outputs": [
    {
     "data": {
      "text/plain": [
       "7402"
      ]
     },
     "execution_count": 12,
     "metadata": {},
     "output_type": "execute_result"
    }
   ],
   "source": [
    "len(df[df['fare_amount'] <= 0])"
   ]
  },
  {
   "cell_type": "code",
   "execution_count": 13,
   "id": "70b84c4f9e372c67",
   "metadata": {
    "ExecuteTime": {
     "end_time": "2024-05-12T01:09:18.949680200Z",
     "start_time": "2024-05-12T01:09:18.802941Z"
    },
    "collapsed": false,
    "jupyter": {
     "outputs_hidden": false
    }
   },
   "outputs": [
    {
     "data": {
      "text/plain": [
       "121354"
      ]
     },
     "execution_count": 13,
     "metadata": {},
     "output_type": "execute_result"
    }
   ],
   "source": [
    "len(df[df['trip_distance'] <= 0])"
   ]
  },
  {
   "cell_type": "code",
   "execution_count": 14,
   "id": "9a6bc94a711cd14c",
   "metadata": {
    "ExecuteTime": {
     "end_time": "2024-05-12T01:09:19.190568200Z",
     "start_time": "2024-05-12T01:09:18.910092900Z"
    },
    "collapsed": false,
    "jupyter": {
     "outputs_hidden": false
    }
   },
   "outputs": [
    {
     "data": {
      "text/plain": [
       "RatecodeID\n",
       "1.0      1.60\n",
       "2.0     17.93\n",
       "3.0     17.48\n",
       "4.0     17.80\n",
       "5.0      0.00\n",
       "6.0      0.00\n",
       "99.0     6.80\n",
       "Name: trip_distance, dtype: float64"
      ]
     },
     "execution_count": 14,
     "metadata": {},
     "output_type": "execute_result"
    }
   ],
   "source": [
    "df.groupby('RatecodeID')['trip_distance'].median()"
   ]
  },
  {
   "cell_type": "code",
   "execution_count": 15,
   "id": "ef1d1536825f42ab",
   "metadata": {
    "ExecuteTime": {
     "end_time": "2024-05-12T01:10:10.429990700Z",
     "start_time": "2024-05-12T01:09:19.191567Z"
    },
    "collapsed": false,
    "jupyter": {
     "outputs_hidden": false
    }
   },
   "outputs": [],
   "source": [
    "df.loc[(df['trip_distance'] <= 0) & (df['RatecodeID'] == 1.0)] = 2.8\n",
    "df.loc[(df['trip_distance'] <= 0) & (df['RatecodeID'] == 2.0)] = 20\n",
    "df.loc[(df['trip_distance'] <= 0) & (df['RatecodeID'] == 3.0)] = 24\n",
    "df.loc[(df['trip_distance'] <= 0) & (df['RatecodeID'] == 4.0)] = 12\n",
    "df.loc[(df['trip_distance'] <= 0) & (df['RatecodeID'] == 5.0)] = 3.1"
   ]
  },
  {
   "cell_type": "code",
   "execution_count": 16,
   "id": "dd9c58bae7d25cba",
   "metadata": {
    "ExecuteTime": {
     "end_time": "2024-05-12T01:10:18.711576500Z",
     "start_time": "2024-05-12T01:10:10.429990700Z"
    },
    "collapsed": false,
    "jupyter": {
     "outputs_hidden": false
    }
   },
   "outputs": [],
   "source": [
    "for i in df.columns[[0, 1]]:\n",
    "    df[i] = df[i].apply(lambda x: x.to_pydatetime() if isinstance(x, pd.Timestamp) else None)"
   ]
  },
  {
   "cell_type": "code",
   "execution_count": 17,
   "id": "2d6d75fddac43570",
   "metadata": {
    "ExecuteTime": {
     "end_time": "2024-05-12T01:10:18.731024100Z",
     "start_time": "2024-05-12T01:10:18.708579500Z"
    },
    "collapsed": false,
    "jupyter": {
     "outputs_hidden": false
    }
   },
   "outputs": [
    {
     "data": {
      "text/plain": [
       "tpep_pickup_datetime     datetime64[ns]\n",
       "tpep_dropoff_datetime    datetime64[ns]\n",
       "passenger_count                 float64\n",
       "trip_distance                   float64\n",
       "RatecodeID                      float64\n",
       "store_and_fwd_flag               object\n",
       "PULocationID                    float64\n",
       "DOLocationID                    float64\n",
       "payment_type                    float64\n",
       "fare_amount                     float64\n",
       "extra                           float64\n",
       "mta_tax                         float64\n",
       "tip_amount                      float64\n",
       "tolls_amount                    float64\n",
       "improvement_surcharge           float64\n",
       "total_amount                    float64\n",
       "dtype: object"
      ]
     },
     "execution_count": 17,
     "metadata": {},
     "output_type": "execute_result"
    }
   ],
   "source": [
    "df.dtypes"
   ]
  },
  {
   "cell_type": "code",
   "execution_count": 18,
   "id": "7266609547f4b190",
   "metadata": {
    "ExecuteTime": {
     "end_time": "2024-05-12T01:10:18.789034700Z",
     "start_time": "2024-05-12T01:10:18.725088100Z"
    },
    "collapsed": false,
    "jupyter": {
     "outputs_hidden": false
    }
   },
   "outputs": [
    {
     "data": {
      "text/html": [
       "<div>\n",
       "<style scoped>\n",
       "    .dataframe tbody tr th:only-of-type {\n",
       "        vertical-align: middle;\n",
       "    }\n",
       "\n",
       "    .dataframe tbody tr th {\n",
       "        vertical-align: top;\n",
       "    }\n",
       "\n",
       "    .dataframe thead th {\n",
       "        text-align: right;\n",
       "    }\n",
       "</style>\n",
       "<table border=\"1\" class=\"dataframe\">\n",
       "  <thead>\n",
       "    <tr style=\"text-align: right;\">\n",
       "      <th></th>\n",
       "      <th>tpep_pickup_datetime</th>\n",
       "      <th>tpep_dropoff_datetime</th>\n",
       "      <th>passenger_count</th>\n",
       "      <th>trip_distance</th>\n",
       "      <th>RatecodeID</th>\n",
       "      <th>store_and_fwd_flag</th>\n",
       "      <th>PULocationID</th>\n",
       "      <th>DOLocationID</th>\n",
       "      <th>payment_type</th>\n",
       "      <th>fare_amount</th>\n",
       "      <th>extra</th>\n",
       "      <th>mta_tax</th>\n",
       "      <th>tip_amount</th>\n",
       "      <th>tolls_amount</th>\n",
       "      <th>improvement_surcharge</th>\n",
       "      <th>total_amount</th>\n",
       "    </tr>\n",
       "  </thead>\n",
       "  <tbody>\n",
       "    <tr>\n",
       "      <th>0</th>\n",
       "      <td>2024-01-01 00:57:55</td>\n",
       "      <td>2024-01-01 01:17:43</td>\n",
       "      <td>1.0</td>\n",
       "      <td>1.72</td>\n",
       "      <td>1.0</td>\n",
       "      <td>N</td>\n",
       "      <td>186.0</td>\n",
       "      <td>79.0</td>\n",
       "      <td>2.0</td>\n",
       "      <td>17.7</td>\n",
       "      <td>1.0</td>\n",
       "      <td>0.5</td>\n",
       "      <td>0.00</td>\n",
       "      <td>0.0</td>\n",
       "      <td>1.0</td>\n",
       "      <td>22.70</td>\n",
       "    </tr>\n",
       "    <tr>\n",
       "      <th>1</th>\n",
       "      <td>2024-01-01 00:03:00</td>\n",
       "      <td>2024-01-01 00:09:36</td>\n",
       "      <td>1.0</td>\n",
       "      <td>1.80</td>\n",
       "      <td>1.0</td>\n",
       "      <td>N</td>\n",
       "      <td>140.0</td>\n",
       "      <td>236.0</td>\n",
       "      <td>1.0</td>\n",
       "      <td>10.0</td>\n",
       "      <td>3.5</td>\n",
       "      <td>0.5</td>\n",
       "      <td>3.75</td>\n",
       "      <td>0.0</td>\n",
       "      <td>1.0</td>\n",
       "      <td>18.75</td>\n",
       "    </tr>\n",
       "    <tr>\n",
       "      <th>2</th>\n",
       "      <td>2024-01-01 00:17:06</td>\n",
       "      <td>2024-01-01 00:35:01</td>\n",
       "      <td>1.0</td>\n",
       "      <td>4.70</td>\n",
       "      <td>1.0</td>\n",
       "      <td>N</td>\n",
       "      <td>236.0</td>\n",
       "      <td>79.0</td>\n",
       "      <td>1.0</td>\n",
       "      <td>23.3</td>\n",
       "      <td>3.5</td>\n",
       "      <td>0.5</td>\n",
       "      <td>3.00</td>\n",
       "      <td>0.0</td>\n",
       "      <td>1.0</td>\n",
       "      <td>31.30</td>\n",
       "    </tr>\n",
       "    <tr>\n",
       "      <th>3</th>\n",
       "      <td>2024-01-01 00:36:38</td>\n",
       "      <td>2024-01-01 00:44:56</td>\n",
       "      <td>1.0</td>\n",
       "      <td>1.40</td>\n",
       "      <td>1.0</td>\n",
       "      <td>N</td>\n",
       "      <td>79.0</td>\n",
       "      <td>211.0</td>\n",
       "      <td>1.0</td>\n",
       "      <td>10.0</td>\n",
       "      <td>3.5</td>\n",
       "      <td>0.5</td>\n",
       "      <td>2.00</td>\n",
       "      <td>0.0</td>\n",
       "      <td>1.0</td>\n",
       "      <td>17.00</td>\n",
       "    </tr>\n",
       "    <tr>\n",
       "      <th>4</th>\n",
       "      <td>2024-01-01 00:46:51</td>\n",
       "      <td>2024-01-01 00:52:57</td>\n",
       "      <td>1.0</td>\n",
       "      <td>0.80</td>\n",
       "      <td>1.0</td>\n",
       "      <td>N</td>\n",
       "      <td>211.0</td>\n",
       "      <td>148.0</td>\n",
       "      <td>1.0</td>\n",
       "      <td>7.9</td>\n",
       "      <td>3.5</td>\n",
       "      <td>0.5</td>\n",
       "      <td>3.20</td>\n",
       "      <td>0.0</td>\n",
       "      <td>1.0</td>\n",
       "      <td>16.10</td>\n",
       "    </tr>\n",
       "  </tbody>\n",
       "</table>\n",
       "</div>"
      ],
      "text/plain": [
       "  tpep_pickup_datetime tpep_dropoff_datetime  passenger_count  trip_distance  \\\n",
       "0  2024-01-01 00:57:55   2024-01-01 01:17:43              1.0           1.72   \n",
       "1  2024-01-01 00:03:00   2024-01-01 00:09:36              1.0           1.80   \n",
       "2  2024-01-01 00:17:06   2024-01-01 00:35:01              1.0           4.70   \n",
       "3  2024-01-01 00:36:38   2024-01-01 00:44:56              1.0           1.40   \n",
       "4  2024-01-01 00:46:51   2024-01-01 00:52:57              1.0           0.80   \n",
       "\n",
       "   RatecodeID store_and_fwd_flag  PULocationID  DOLocationID  payment_type  \\\n",
       "0         1.0                  N         186.0          79.0           2.0   \n",
       "1         1.0                  N         140.0         236.0           1.0   \n",
       "2         1.0                  N         236.0          79.0           1.0   \n",
       "3         1.0                  N          79.0         211.0           1.0   \n",
       "4         1.0                  N         211.0         148.0           1.0   \n",
       "\n",
       "   fare_amount  extra  mta_tax  tip_amount  tolls_amount  \\\n",
       "0         17.7    1.0      0.5        0.00           0.0   \n",
       "1         10.0    3.5      0.5        3.75           0.0   \n",
       "2         23.3    3.5      0.5        3.00           0.0   \n",
       "3         10.0    3.5      0.5        2.00           0.0   \n",
       "4          7.9    3.5      0.5        3.20           0.0   \n",
       "\n",
       "   improvement_surcharge  total_amount  \n",
       "0                    1.0         22.70  \n",
       "1                    1.0         18.75  \n",
       "2                    1.0         31.30  \n",
       "3                    1.0         17.00  \n",
       "4                    1.0         16.10  "
      ]
     },
     "execution_count": 18,
     "metadata": {},
     "output_type": "execute_result"
    }
   ],
   "source": [
    "df.head()"
   ]
  },
  {
   "cell_type": "code",
   "execution_count": 19,
   "id": "b9ab252c65145814",
   "metadata": {
    "ExecuteTime": {
     "end_time": "2024-05-12T01:10:53.959809700Z",
     "start_time": "2024-05-12T01:10:18.756467900Z"
    },
    "collapsed": false,
    "jupyter": {
     "outputs_hidden": false
    }
   },
   "outputs": [],
   "source": [
    "timedeltas = df['tpep_dropoff_datetime'] - df['tpep_pickup_datetime']\n",
    "trip_duration = []\n",
    "for i in timedeltas:\n",
    "    trip_duration.append(i.total_seconds() / 60)\n",
    "\n",
    "df['trip_duration'] = trip_duration\n",
    "df['trip_duration'] = df['trip_duration'].round(2)"
   ]
  },
  {
   "cell_type": "code",
   "execution_count": 20,
   "id": "3dcfa38af506a08b",
   "metadata": {
    "ExecuteTime": {
     "end_time": "2024-05-12T01:10:54.784120200Z",
     "start_time": "2024-05-12T01:10:53.959809700Z"
    },
    "collapsed": false,
    "jupyter": {
     "outputs_hidden": false
    }
   },
   "outputs": [
    {
     "data": {
      "text/plain": [
       "(5817214, 17)"
      ]
     },
     "execution_count": 20,
     "metadata": {},
     "output_type": "execute_result"
    }
   ],
   "source": [
    "df = df[df['trip_duration'] > 1]\n",
    "df.shape"
   ]
  },
  {
   "cell_type": "code",
   "execution_count": 21,
   "id": "5c1b0b0c0c09e93c",
   "metadata": {
    "ExecuteTime": {
     "end_time": "2024-05-12T01:10:55.007029200Z",
     "start_time": "2024-05-12T01:10:54.785120700Z"
    },
    "collapsed": false,
    "jupyter": {
     "outputs_hidden": false
    }
   },
   "outputs": [
    {
     "data": {
      "text/plain": [
       "N    5472241\n",
       "Y      21070\n",
       "Name: store_and_fwd_flag, dtype: int64"
      ]
     },
     "execution_count": 21,
     "metadata": {},
     "output_type": "execute_result"
    }
   ],
   "source": [
    "df['store_and_fwd_flag'].value_counts()"
   ]
  },
  {
   "cell_type": "code",
   "execution_count": 22,
   "id": "8f7aaf885bdb7349",
   "metadata": {
    "ExecuteTime": {
     "end_time": "2024-05-12T01:10:55.204610500Z",
     "start_time": "2024-05-12T01:10:55.003524600Z"
    },
    "collapsed": false,
    "jupyter": {
     "outputs_hidden": false
    }
   },
   "outputs": [],
   "source": [
    "df['store_and_fwd_flag'].fillna('N', inplace= True)"
   ]
  },
  {
   "cell_type": "code",
   "execution_count": 23,
   "id": "471efa9633f736cf",
   "metadata": {
    "ExecuteTime": {
     "end_time": "2024-05-12T01:10:55.283063800Z",
     "start_time": "2024-05-12T01:10:55.206611100Z"
    },
    "collapsed": false,
    "jupyter": {
     "outputs_hidden": false
    }
   },
   "outputs": [
    {
     "data": {
      "text/plain": [
       "1.0    0.793582\n",
       "2.0    0.139886\n",
       "0.0    0.055680\n",
       "4.0    0.007509\n",
       "3.0    0.003343\n",
       "Name: payment_type, dtype: float64"
      ]
     },
     "execution_count": 23,
     "metadata": {},
     "output_type": "execute_result"
    }
   ],
   "source": [
    "df['payment_type'].value_counts(normalize= True)"
   ]
  },
  {
   "cell_type": "code",
   "execution_count": 24,
   "id": "4d4fd919aeabe9d9",
   "metadata": {
    "ExecuteTime": {
     "end_time": "2024-05-12T01:10:55.376212400Z",
     "start_time": "2024-05-12T01:10:55.283063800Z"
    },
    "collapsed": false,
    "jupyter": {
     "outputs_hidden": false
    }
   },
   "outputs": [],
   "source": [
    "df.loc[(df['payment_type'].isna()) & (df['total_amount'] > 50), 'payment_type'] = 1.0\n",
    "df.loc[(df['payment_type'].isna()) & (df['total_amount'] <= 50), 'payment_type'] = 2.0"
   ]
  },
  {
   "cell_type": "code",
   "execution_count": 25,
   "id": "caaa2d92e6e853b6",
   "metadata": {
    "ExecuteTime": {
     "end_time": "2024-05-12T01:10:55.579885100Z",
     "start_time": "2024-05-12T01:10:55.378675800Z"
    },
    "collapsed": false,
    "jupyter": {
     "outputs_hidden": false
    }
   },
   "outputs": [],
   "source": [
    "df.loc[(df['RatecodeID'].isna()) & (df['total_amount'] >= 184), 'RatecodeID'] = 4.0\n",
    "df.loc[(df['RatecodeID'].isna()) & (138 <= df['total_amount']) & (df['total_amount']< 184), 'RatecodeID'] = 3.0\n",
    "df.loc[(df['RatecodeID'].isna()) & (79 <= df['total_amount']) & (df['total_amount']< 138), 'RatecodeID'] = 2.0\n",
    "df.loc[(df['RatecodeID'].isna()) & (0 <= df['total_amount']) & (df['total_amount']< 79), 'RatecodeID'] = 1.0"
   ]
  },
  {
   "cell_type": "code",
   "execution_count": 26,
   "id": "c06ea2c1df68aeff",
   "metadata": {
    "ExecuteTime": {
     "end_time": "2024-05-12T01:10:55.679365800Z",
     "start_time": "2024-05-12T01:10:55.580888200Z"
    },
    "collapsed": false,
    "jupyter": {
     "outputs_hidden": false
    }
   },
   "outputs": [],
   "source": [
    "df.loc[df['passenger_count']==0, 'passenger_count'] = 1.0\n",
    "df.loc[df['passenger_count']==7, 'passenger_count'] = 1.0\n",
    "df.loc[df['passenger_count']==32, 'passenger_count'] = 1.0"
   ]
  },
  {
   "cell_type": "code",
   "execution_count": 27,
   "id": "345d6b9350046ade",
   "metadata": {
    "ExecuteTime": {
     "end_time": "2024-05-12T01:10:55.731090400Z",
     "start_time": "2024-05-12T01:10:55.672058100Z"
    },
    "collapsed": false,
    "jupyter": {
     "outputs_hidden": false
    }
   },
   "outputs": [],
   "source": [
    "df.loc[df['passenger_count'].isna(), 'passenger_count'] = 1.0"
   ]
  },
  {
   "cell_type": "code",
   "execution_count": 28,
   "id": "489779bd5cad7aee",
   "metadata": {
    "ExecuteTime": {
     "end_time": "2024-05-12T01:10:56.047228700Z",
     "start_time": "2024-05-12T01:10:55.719834800Z"
    },
    "collapsed": false,
    "jupyter": {
     "outputs_hidden": false
    }
   },
   "outputs": [
    {
     "data": {
      "text/plain": [
       "tpep_pickup_datetime     0\n",
       "tpep_dropoff_datetime    0\n",
       "passenger_count          0\n",
       "trip_distance            0\n",
       "RatecodeID               0\n",
       "store_and_fwd_flag       0\n",
       "PULocationID             0\n",
       "DOLocationID             0\n",
       "payment_type             0\n",
       "fare_amount              0\n",
       "extra                    0\n",
       "mta_tax                  0\n",
       "tip_amount               0\n",
       "tolls_amount             0\n",
       "improvement_surcharge    0\n",
       "total_amount             0\n",
       "trip_duration            0\n",
       "dtype: int64"
      ]
     },
     "execution_count": 28,
     "metadata": {},
     "output_type": "execute_result"
    }
   ],
   "source": [
    "df.isna().sum()"
   ]
  },
  {
   "cell_type": "code",
   "execution_count": 29,
   "id": "8221d10e75103e3d",
   "metadata": {
    "ExecuteTime": {
     "end_time": "2024-05-12T01:10:56.089096800Z",
     "start_time": "2024-05-12T01:10:56.042835600Z"
    },
    "collapsed": false,
    "jupyter": {
     "outputs_hidden": false
    }
   },
   "outputs": [
    {
     "data": {
      "text/html": [
       "<div>\n",
       "<style scoped>\n",
       "    .dataframe tbody tr th:only-of-type {\n",
       "        vertical-align: middle;\n",
       "    }\n",
       "\n",
       "    .dataframe tbody tr th {\n",
       "        vertical-align: top;\n",
       "    }\n",
       "\n",
       "    .dataframe thead th {\n",
       "        text-align: right;\n",
       "    }\n",
       "</style>\n",
       "<table border=\"1\" class=\"dataframe\">\n",
       "  <thead>\n",
       "    <tr style=\"text-align: right;\">\n",
       "      <th></th>\n",
       "      <th>tpep_pickup_datetime</th>\n",
       "      <th>tpep_dropoff_datetime</th>\n",
       "      <th>passenger_count</th>\n",
       "      <th>trip_distance</th>\n",
       "      <th>RatecodeID</th>\n",
       "      <th>store_and_fwd_flag</th>\n",
       "      <th>PULocationID</th>\n",
       "      <th>DOLocationID</th>\n",
       "      <th>payment_type</th>\n",
       "      <th>fare_amount</th>\n",
       "      <th>extra</th>\n",
       "      <th>mta_tax</th>\n",
       "      <th>tip_amount</th>\n",
       "      <th>tolls_amount</th>\n",
       "      <th>improvement_surcharge</th>\n",
       "      <th>total_amount</th>\n",
       "      <th>trip_duration</th>\n",
       "    </tr>\n",
       "  </thead>\n",
       "  <tbody>\n",
       "    <tr>\n",
       "      <th>0</th>\n",
       "      <td>2024-01-01 00:57:55</td>\n",
       "      <td>2024-01-01 01:17:43</td>\n",
       "      <td>1.0</td>\n",
       "      <td>1.72</td>\n",
       "      <td>1.0</td>\n",
       "      <td>N</td>\n",
       "      <td>186.0</td>\n",
       "      <td>79.0</td>\n",
       "      <td>2.0</td>\n",
       "      <td>17.7</td>\n",
       "      <td>1.0</td>\n",
       "      <td>0.5</td>\n",
       "      <td>0.00</td>\n",
       "      <td>0.0</td>\n",
       "      <td>1.0</td>\n",
       "      <td>22.70</td>\n",
       "      <td>19.80</td>\n",
       "    </tr>\n",
       "    <tr>\n",
       "      <th>1</th>\n",
       "      <td>2024-01-01 00:03:00</td>\n",
       "      <td>2024-01-01 00:09:36</td>\n",
       "      <td>1.0</td>\n",
       "      <td>1.80</td>\n",
       "      <td>1.0</td>\n",
       "      <td>N</td>\n",
       "      <td>140.0</td>\n",
       "      <td>236.0</td>\n",
       "      <td>1.0</td>\n",
       "      <td>10.0</td>\n",
       "      <td>3.5</td>\n",
       "      <td>0.5</td>\n",
       "      <td>3.75</td>\n",
       "      <td>0.0</td>\n",
       "      <td>1.0</td>\n",
       "      <td>18.75</td>\n",
       "      <td>6.60</td>\n",
       "    </tr>\n",
       "    <tr>\n",
       "      <th>2</th>\n",
       "      <td>2024-01-01 00:17:06</td>\n",
       "      <td>2024-01-01 00:35:01</td>\n",
       "      <td>1.0</td>\n",
       "      <td>4.70</td>\n",
       "      <td>1.0</td>\n",
       "      <td>N</td>\n",
       "      <td>236.0</td>\n",
       "      <td>79.0</td>\n",
       "      <td>1.0</td>\n",
       "      <td>23.3</td>\n",
       "      <td>3.5</td>\n",
       "      <td>0.5</td>\n",
       "      <td>3.00</td>\n",
       "      <td>0.0</td>\n",
       "      <td>1.0</td>\n",
       "      <td>31.30</td>\n",
       "      <td>17.92</td>\n",
       "    </tr>\n",
       "    <tr>\n",
       "      <th>3</th>\n",
       "      <td>2024-01-01 00:36:38</td>\n",
       "      <td>2024-01-01 00:44:56</td>\n",
       "      <td>1.0</td>\n",
       "      <td>1.40</td>\n",
       "      <td>1.0</td>\n",
       "      <td>N</td>\n",
       "      <td>79.0</td>\n",
       "      <td>211.0</td>\n",
       "      <td>1.0</td>\n",
       "      <td>10.0</td>\n",
       "      <td>3.5</td>\n",
       "      <td>0.5</td>\n",
       "      <td>2.00</td>\n",
       "      <td>0.0</td>\n",
       "      <td>1.0</td>\n",
       "      <td>17.00</td>\n",
       "      <td>8.30</td>\n",
       "    </tr>\n",
       "    <tr>\n",
       "      <th>4</th>\n",
       "      <td>2024-01-01 00:46:51</td>\n",
       "      <td>2024-01-01 00:52:57</td>\n",
       "      <td>1.0</td>\n",
       "      <td>0.80</td>\n",
       "      <td>1.0</td>\n",
       "      <td>N</td>\n",
       "      <td>211.0</td>\n",
       "      <td>148.0</td>\n",
       "      <td>1.0</td>\n",
       "      <td>7.9</td>\n",
       "      <td>3.5</td>\n",
       "      <td>0.5</td>\n",
       "      <td>3.20</td>\n",
       "      <td>0.0</td>\n",
       "      <td>1.0</td>\n",
       "      <td>16.10</td>\n",
       "      <td>6.10</td>\n",
       "    </tr>\n",
       "  </tbody>\n",
       "</table>\n",
       "</div>"
      ],
      "text/plain": [
       "  tpep_pickup_datetime tpep_dropoff_datetime  passenger_count  trip_distance  \\\n",
       "0  2024-01-01 00:57:55   2024-01-01 01:17:43              1.0           1.72   \n",
       "1  2024-01-01 00:03:00   2024-01-01 00:09:36              1.0           1.80   \n",
       "2  2024-01-01 00:17:06   2024-01-01 00:35:01              1.0           4.70   \n",
       "3  2024-01-01 00:36:38   2024-01-01 00:44:56              1.0           1.40   \n",
       "4  2024-01-01 00:46:51   2024-01-01 00:52:57              1.0           0.80   \n",
       "\n",
       "   RatecodeID store_and_fwd_flag  PULocationID  DOLocationID  payment_type  \\\n",
       "0         1.0                  N         186.0          79.0           2.0   \n",
       "1         1.0                  N         140.0         236.0           1.0   \n",
       "2         1.0                  N         236.0          79.0           1.0   \n",
       "3         1.0                  N          79.0         211.0           1.0   \n",
       "4         1.0                  N         211.0         148.0           1.0   \n",
       "\n",
       "   fare_amount  extra  mta_tax  tip_amount  tolls_amount  \\\n",
       "0         17.7    1.0      0.5        0.00           0.0   \n",
       "1         10.0    3.5      0.5        3.75           0.0   \n",
       "2         23.3    3.5      0.5        3.00           0.0   \n",
       "3         10.0    3.5      0.5        2.00           0.0   \n",
       "4          7.9    3.5      0.5        3.20           0.0   \n",
       "\n",
       "   improvement_surcharge  total_amount  trip_duration  \n",
       "0                    1.0         22.70          19.80  \n",
       "1                    1.0         18.75           6.60  \n",
       "2                    1.0         31.30          17.92  \n",
       "3                    1.0         17.00           8.30  \n",
       "4                    1.0         16.10           6.10  "
      ]
     },
     "execution_count": 29,
     "metadata": {},
     "output_type": "execute_result"
    }
   ],
   "source": [
    "df.head()"
   ]
  },
  {
   "cell_type": "code",
   "execution_count": 30,
   "id": "2a7f67aa6d10e9ce",
   "metadata": {
    "ExecuteTime": {
     "end_time": "2024-05-12T01:10:56.105203300Z",
     "start_time": "2024-05-12T01:10:56.074063200Z"
    },
    "collapsed": false,
    "jupyter": {
     "outputs_hidden": false
    }
   },
   "outputs": [
    {
     "data": {
      "text/plain": [
       "(5817214, 17)"
      ]
     },
     "execution_count": 30,
     "metadata": {},
     "output_type": "execute_result"
    }
   ],
   "source": [
    "df.shape"
   ]
  },
  {
   "cell_type": "code",
   "execution_count": 31,
   "id": "f598d9363784b608",
   "metadata": {
    "ExecuteTime": {
     "end_time": "2024-05-12T01:10:59.449798600Z",
     "start_time": "2024-05-12T01:10:56.089601700Z"
    },
    "collapsed": false,
    "jupyter": {
     "outputs_hidden": false
    }
   },
   "outputs": [
    {
     "data": {
      "text/plain": [
       "<Axes: >"
      ]
     },
     "execution_count": 31,
     "metadata": {},
     "output_type": "execute_result"
    },
    {
     "data": {
      "image/png": "[encoded data removed]",
      "text/plain": [
       "<Figure size 1800x1000 with 2 Axes>"
      ]
     },
     "metadata": {},
     "output_type": "display_data"
    }
   ],
   "source": [
    "plt.figure(figsize= (18, 10))\n",
    "sns.heatmap(df.corr(), annot= True)"
   ]
  },
  {
   "cell_type": "code",
   "execution_count": 32,
   "id": "d273ca960a3c5f66",
   "metadata": {
    "ExecuteTime": {
     "end_time": "2024-05-12T01:11:00.445811100Z",
     "start_time": "2024-05-12T01:10:59.444451600Z"
    },
    "collapsed": false,
    "jupyter": {
     "outputs_hidden": false
    }
   },
   "outputs": [],
   "source": [
    "df['day_of_week'] = df['tpep_pickup_datetime'].dt.day_name()"
   ]
  },
  {
   "cell_type": "code",
   "execution_count": 33,
   "id": "909e50fd0b3593f6",
   "metadata": {
    "ExecuteTime": {
     "end_time": "2024-05-12T01:11:14.381977500Z",
     "start_time": "2024-05-12T01:11:00.447405900Z"
    },
    "collapsed": false,
    "jupyter": {
     "outputs_hidden": false
    }
   },
   "outputs": [
    {
     "name": "stderr",
     "output_type": "stream",
     "text": [
      "C:\\Users\\milin\\AppData\\Local\\Temp\\ipykernel_13928\\1715239388.py:2: UserWarning: The palette list has more values (10) than needed (7), which may not be intended.\n",
      "  sns.countplot(y= 'day_of_week', data= df, palette=sns.color_palette(), hue=df['day_of_week'])\n"
     ]
    },
    {
     "data": {
      "text/plain": [
       "Text(0, 0.5, '')"
      ]
     },
     "execution_count": 33,
     "metadata": {},
     "output_type": "execute_result"
    },
    {
     "data": {
      "image/png": "[encoded data removed]",
      "text/plain": [
       "<Figure size 1800x700 with 1 Axes>"
      ]
     },
     "metadata": {},
     "output_type": "display_data"
    }
   ],
   "source": [
    "plt.figure(figsize= (18, 7))\n",
    "sns.countplot(y= 'day_of_week', data= df, palette=sns.color_palette(), hue=df['day_of_week'])\n",
    "plt.ylabel('')"
   ]
  },
  {
   "cell_type": "code",
   "execution_count": 34,
   "id": "ec988523f9123e05",
   "metadata": {
    "ExecuteTime": {
     "end_time": "2024-05-12T01:11:22.265443400Z",
     "start_time": "2024-05-12T01:11:14.383287400Z"
    },
    "collapsed": false,
    "jupyter": {
     "outputs_hidden": false
    }
   },
   "outputs": [
    {
     "data": {
      "text/plain": [
       "Text(0.5, 0, 'Hour of Day')"
      ]
     },
     "execution_count": 34,
     "metadata": {},
     "output_type": "execute_result"
    },
    {
     "data": {
      "image/png": "[encoded data removed]",
      "text/plain": [
       "<Figure size 1800x700 with 1 Axes>"
      ]
     },
     "metadata": {},
     "output_type": "display_data"
    }
   ],
   "source": [
    "plt.figure(figsize= (18, 7))\n",
    "sns.countplot(x= df['tpep_pickup_datetime'].dt.hour, data= df, color= 'goldenrod')\n",
    "plt.ylabel('')\n",
    "plt.xlabel('Hour of Day')"
   ]
  },
  {
   "cell_type": "code",
   "execution_count": 35,
   "id": "a470bd943d26b16b",
   "metadata": {
    "ExecuteTime": {
     "end_time": "2024-05-12T01:11:24.857499500Z",
     "start_time": "2024-05-12T01:11:22.270069100Z"
    },
    "collapsed": false,
    "jupyter": {
     "outputs_hidden": false
    }
   },
   "outputs": [
    {
     "name": "stdout",
     "output_type": "stream",
     "text": [
      "Requirement already satisfied: catboost in c:\\users\\milin\\appdata\\local\\programs\\python\\python310\\lib\\site-packages (1.2.5)\n",
      "Requirement already satisfied: graphviz in c:\\users\\milin\\appdata\\local\\programs\\python\\python310\\lib\\site-packages (from catboost) (0.20.3)\n",
      "Requirement already satisfied: matplotlib in c:\\users\\milin\\appdata\\roaming\\python\\python310\\site-packages (from catboost) (3.8.1)\n",
      "Requirement already satisfied: numpy>=1.16.0 in c:\\users\\milin\\appdata\\roaming\\python\\python310\\site-packages (from catboost) (1.26.1)\n",
      "Requirement already satisfied: pandas>=0.24 in c:\\users\\milin\\appdata\\local\\programs\\python\\python310\\lib\\site-packages (from catboost) (1.3.5)\n",
      "Requirement already satisfied: scipy in c:\\users\\milin\\appdata\\local\\programs\\python\\python310\\lib\\site-packages (from catboost) (1.10.1)\n",
      "Requirement already satisfied: plotly in c:\\users\\milin\\appdata\\local\\programs\\python\\python310\\lib\\site-packages (from catboost) (5.22.0)\n",
      "Requirement already satisfied: six in c:\\users\\milin\\appdata\\local\\programs\\python\\python310\\lib\\site-packages (from catboost) (1.16.0)\n",
      "Requirement already satisfied: python-dateutil>=2.7.3 in c:\\users\\milin\\appdata\\local\\programs\\python\\python310\\lib\\site-packages (from pandas>=0.24->catboost) (2.8.2)\n",
      "Requirement already satisfied: pytz>=2017.3 in c:\\users\\milin\\appdata\\local\\programs\\python\\python310\\lib\\site-packages (from pandas>=0.24->catboost) (2023.3)\n",
      "Requirement already satisfied: contourpy>=1.0.1 in c:\\users\\milin\\appdata\\local\\programs\\python\\python310\\lib\\site-packages (from matplotlib->catboost) (1.0.7)\n",
      "Requirement already satisfied: cycler>=0.10 in c:\\users\\milin\\appdata\\local\\programs\\python\\python310\\lib\\site-packages (from matplotlib->catboost) (0.11.0)\n",
      "Requirement already satisfied: fonttools>=4.22.0 in c:\\users\\milin\\appdata\\local\\programs\\python\\python310\\lib\\site-packages (from matplotlib->catboost) (4.39.3)\n",
      "Requirement already satisfied: kiwisolver>=1.3.1 in c:\\users\\milin\\appdata\\local\\programs\\python\\python310\\lib\\site-packages (from matplotlib->catboost) (1.4.4)\n",
      "Requirement already satisfied: packaging>=20.0 in c:\\users\\milin\\appdata\\local\\programs\\python\\python310\\lib\\site-packages (from matplotlib->catboost) (23.2)\n",
      "Requirement already satisfied: pillow>=8 in c:\\users\\milin\\appdata\\local\\programs\\python\\python310\\lib\\site-packages (from matplotlib->catboost) (10.2.0)\n",
      "Requirement already satisfied: pyparsing>=2.3.1 in c:\\users\\milin\\appdata\\local\\programs\\python\\python310\\lib\\site-packages (from matplotlib->catboost) (3.0.9)\n",
      "Requirement already satisfied: tenacity>=6.2.0 in c:\\users\\milin\\appdata\\local\\programs\\python\\python310\\lib\\site-packages (from plotly->catboost) (8.2.3)\n"
     ]
    },
    {
     "name": "stderr",
     "output_type": "stream",
     "text": [
      "WARNING: Ignoring invalid distribution -andas (c:\\users\\milin\\appdata\\local\\programs\\python\\python310\\lib\\site-packages)\n",
      "WARNING: Ignoring invalid distribution -andas (c:\\users\\milin\\appdata\\local\\programs\\python\\python310\\lib\\site-packages)\n"
     ]
    }
   ],
   "source": [
    "!pip install catboost"
   ]
  },
  {
   "cell_type": "code",
   "execution_count": 36,
   "id": "5bc5a2c060d53f0a",
   "metadata": {
    "ExecuteTime": {
     "end_time": "2024-05-12T01:11:25.635245500Z",
     "start_time": "2024-05-12T01:11:24.855343900Z"
    },
    "collapsed": false,
    "jupyter": {
     "outputs_hidden": false
    }
   },
   "outputs": [],
   "source": [
    "from sklearn.model_selection import train_test_split\n",
    "from sklearn.metrics import mean_absolute_error\n",
    "from sklearn.metrics import mean_squared_error\n",
    "from sklearn.metrics import r2_score\n",
    "# from sklearn.preprocessing import StandardScaler\n",
    "\n",
    "from catboost import CatBoostRegressor"
   ]
  },
  {
   "cell_type": "code",
   "execution_count": 37,
   "id": "14b6cd9338c3bf91",
   "metadata": {
    "ExecuteTime": {
     "end_time": "2024-05-12T01:11:25.648935100Z",
     "start_time": "2024-05-12T01:11:25.634217100Z"
    },
    "collapsed": false,
    "jupyter": {
     "outputs_hidden": false
    }
   },
   "outputs": [],
   "source": [
    "# scaler = StandardScaler()\n",
    "# df_scaled = scaler.fit_transform(df)\n",
    "# df_scaled = pd.DataFrame(df_scaled, columns=df.columns)"
   ]
  },
  {
   "cell_type": "code",
   "execution_count": 38,
   "id": "ebcbfdc52ce667a0",
   "metadata": {
    "ExecuteTime": {
     "end_time": "2024-05-12T01:11:26.076575Z",
     "start_time": "2024-05-12T01:11:25.647857200Z"
    },
    "collapsed": false,
    "jupyter": {
     "outputs_hidden": false
    }
   },
   "outputs": [],
   "source": [
    "# X = df_scaled[['trip_distance', 'passenger_count', 'RatecodeID', 'trip_duration']]\n",
    "# y = df_scaled['total_amount']\n",
    "\n",
    "X = df[['trip_distance', 'passenger_count', 'RatecodeID', 'trip_duration']]\n",
    "y = df['total_amount']"
   ]
  },
  {
   "cell_type": "code",
   "execution_count": 39,
   "id": "aa9f0454f23a43fd",
   "metadata": {
    "ExecuteTime": {
     "end_time": "2024-05-12T01:11:27.193725300Z",
     "start_time": "2024-05-12T01:11:26.077703700Z"
    },
    "collapsed": false,
    "jupyter": {
     "outputs_hidden": false
    }
   },
   "outputs": [],
   "source": [
    "X_train, X_test, y_train, y_test = train_test_split(X, y, test_size= 0.3, random_state= 42)"
   ]
  },
  {
   "cell_type": "code",
   "execution_count": 40,
   "id": "3069b56dd8cdc659",
   "metadata": {
    "ExecuteTime": {
     "end_time": "2024-05-12T01:11:56.528009800Z",
     "start_time": "2024-05-12T01:11:27.193725300Z"
    },
    "collapsed": false,
    "jupyter": {
     "outputs_hidden": false
    }
   },
   "outputs": [
    {
     "name": "stdout",
     "output_type": "stream",
     "text": [
      "Learning rate set to 0.5\n",
      "0:\tlearn: 12.6628789\ttotal: 402ms\tremaining: 39.8s\n",
      "1:\tlearn: 8.5881418\ttotal: 698ms\tremaining: 34.2s\n",
      "2:\tlearn: 6.9728429\ttotal: 1s\tremaining: 32.4s\n",
      "3:\tlearn: 6.3464414\ttotal: 1.31s\tremaining: 31.5s\n",
      "4:\tlearn: 5.9975863\ttotal: 1.59s\tremaining: 30.2s\n",
      "5:\tlearn: 5.8527193\ttotal: 1.84s\tremaining: 28.9s\n",
      "6:\tlearn: 5.7554413\ttotal: 2.11s\tremaining: 28s\n",
      "7:\tlearn: 5.7191587\ttotal: 2.43s\tremaining: 27.9s\n",
      "8:\tlearn: 5.6296645\ttotal: 2.65s\tremaining: 26.8s\n",
      "9:\tlearn: 5.5947490\ttotal: 2.94s\tremaining: 26.5s\n",
      "10:\tlearn: 5.5743175\ttotal: 3.16s\tremaining: 25.6s\n",
      "11:\tlearn: 5.5423620\ttotal: 3.4s\tremaining: 24.9s\n",
      "12:\tlearn: 5.5012257\ttotal: 3.68s\tremaining: 24.6s\n",
      "13:\tlearn: 5.4902624\ttotal: 3.96s\tremaining: 24.3s\n",
      "14:\tlearn: 5.4751000\ttotal: 4.2s\tremaining: 23.8s\n",
      "15:\tlearn: 5.4652462\ttotal: 4.47s\tremaining: 23.5s\n",
      "16:\tlearn: 5.4542188\ttotal: 4.75s\tremaining: 23.2s\n",
      "17:\tlearn: 5.4391715\ttotal: 5.04s\tremaining: 23s\n",
      "18:\tlearn: 5.4294849\ttotal: 5.35s\tremaining: 22.8s\n",
      "19:\tlearn: 5.4232745\ttotal: 5.63s\tremaining: 22.5s\n",
      "20:\tlearn: 5.4022498\ttotal: 5.85s\tremaining: 22s\n",
      "21:\tlearn: 5.3938292\ttotal: 6.14s\tremaining: 21.8s\n",
      "22:\tlearn: 5.3863233\ttotal: 6.39s\tremaining: 21.4s\n",
      "23:\tlearn: 5.3812089\ttotal: 6.7s\tremaining: 21.2s\n",
      "24:\tlearn: 5.3743603\ttotal: 6.96s\tremaining: 20.9s\n",
      "25:\tlearn: 5.3715176\ttotal: 7.22s\tremaining: 20.6s\n",
      "26:\tlearn: 5.3639572\ttotal: 7.54s\tremaining: 20.4s\n",
      "27:\tlearn: 5.3611761\ttotal: 7.84s\tremaining: 20.2s\n",
      "28:\tlearn: 5.3571494\ttotal: 8.12s\tremaining: 19.9s\n",
      "29:\tlearn: 5.3524325\ttotal: 8.4s\tremaining: 19.6s\n",
      "30:\tlearn: 5.3477616\ttotal: 8.63s\tremaining: 19.2s\n",
      "31:\tlearn: 5.3453991\ttotal: 8.93s\tremaining: 19s\n",
      "32:\tlearn: 5.3435754\ttotal: 9.24s\tremaining: 18.8s\n",
      "33:\tlearn: 5.3409490\ttotal: 9.53s\tremaining: 18.5s\n",
      "34:\tlearn: 5.3362859\ttotal: 9.79s\tremaining: 18.2s\n",
      "35:\tlearn: 5.3324091\ttotal: 10.1s\tremaining: 17.9s\n",
      "36:\tlearn: 5.3284472\ttotal: 10.3s\tremaining: 17.5s\n",
      "37:\tlearn: 5.3270362\ttotal: 10.6s\tremaining: 17.2s\n",
      "38:\tlearn: 5.3247637\ttotal: 10.8s\tremaining: 16.9s\n",
      "39:\tlearn: 5.3223805\ttotal: 11.1s\tremaining: 16.6s\n",
      "40:\tlearn: 5.3212905\ttotal: 11.3s\tremaining: 16.3s\n",
      "41:\tlearn: 5.3201370\ttotal: 11.6s\tremaining: 16s\n",
      "42:\tlearn: 5.3182620\ttotal: 11.8s\tremaining: 15.7s\n",
      "43:\tlearn: 5.3175081\ttotal: 12.1s\tremaining: 15.4s\n",
      "44:\tlearn: 5.3161057\ttotal: 12.4s\tremaining: 15.1s\n",
      "45:\tlearn: 5.3149755\ttotal: 12.7s\tremaining: 14.9s\n",
      "46:\tlearn: 5.3142409\ttotal: 12.9s\tremaining: 14.6s\n",
      "47:\tlearn: 5.3129351\ttotal: 13.2s\tremaining: 14.3s\n",
      "48:\tlearn: 5.3107901\ttotal: 13.5s\tremaining: 14s\n",
      "49:\tlearn: 5.3098803\ttotal: 13.7s\tremaining: 13.7s\n",
      "50:\tlearn: 5.3088359\ttotal: 14s\tremaining: 13.5s\n",
      "51:\tlearn: 5.3082730\ttotal: 14.3s\tremaining: 13.2s\n",
      "52:\tlearn: 5.3063033\ttotal: 14.6s\tremaining: 12.9s\n",
      "53:\tlearn: 5.3042142\ttotal: 14.8s\tremaining: 12.6s\n",
      "54:\tlearn: 5.3030192\ttotal: 15.1s\tremaining: 12.4s\n",
      "55:\tlearn: 5.3016646\ttotal: 15.3s\tremaining: 12.1s\n",
      "56:\tlearn: 5.3000295\ttotal: 15.6s\tremaining: 11.8s\n",
      "57:\tlearn: 5.2990741\ttotal: 15.9s\tremaining: 11.5s\n",
      "58:\tlearn: 5.2985410\ttotal: 16.2s\tremaining: 11.3s\n",
      "59:\tlearn: 5.2979177\ttotal: 16.5s\tremaining: 11s\n",
      "60:\tlearn: 5.2968461\ttotal: 16.8s\tremaining: 10.7s\n",
      "61:\tlearn: 5.2955288\ttotal: 17s\tremaining: 10.4s\n",
      "62:\tlearn: 5.2947805\ttotal: 17.3s\tremaining: 10.2s\n",
      "63:\tlearn: 5.2939220\ttotal: 17.6s\tremaining: 9.9s\n",
      "64:\tlearn: 5.2935309\ttotal: 17.9s\tremaining: 9.62s\n",
      "65:\tlearn: 5.2924094\ttotal: 18.1s\tremaining: 9.32s\n",
      "66:\tlearn: 5.2920416\ttotal: 18.4s\tremaining: 9.06s\n",
      "67:\tlearn: 5.2907680\ttotal: 18.6s\tremaining: 8.76s\n",
      "68:\tlearn: 5.2902665\ttotal: 18.9s\tremaining: 8.5s\n",
      "69:\tlearn: 5.2892304\ttotal: 19.2s\tremaining: 8.21s\n",
      "70:\tlearn: 5.2890487\ttotal: 19.5s\tremaining: 7.95s\n",
      "71:\tlearn: 5.2886929\ttotal: 19.8s\tremaining: 7.68s\n",
      "72:\tlearn: 5.2880670\ttotal: 20s\tremaining: 7.41s\n",
      "73:\tlearn: 5.2843709\ttotal: 20.3s\tremaining: 7.14s\n",
      "74:\tlearn: 5.2838928\ttotal: 20.6s\tremaining: 6.88s\n",
      "75:\tlearn: 5.2801428\ttotal: 20.9s\tremaining: 6.59s\n",
      "76:\tlearn: 5.2796931\ttotal: 21.1s\tremaining: 6.3s\n",
      "77:\tlearn: 5.2789458\ttotal: 21.4s\tremaining: 6.03s\n",
      "78:\tlearn: 5.2780433\ttotal: 21.7s\tremaining: 5.76s\n",
      "79:\tlearn: 5.2773893\ttotal: 22s\tremaining: 5.49s\n",
      "80:\tlearn: 5.2765357\ttotal: 22.2s\tremaining: 5.21s\n",
      "81:\tlearn: 5.2746060\ttotal: 22.5s\tremaining: 4.93s\n",
      "82:\tlearn: 5.2743242\ttotal: 22.8s\tremaining: 4.66s\n",
      "83:\tlearn: 5.2740354\ttotal: 23s\tremaining: 4.39s\n",
      "84:\tlearn: 5.2736669\ttotal: 23.3s\tremaining: 4.12s\n",
      "85:\tlearn: 5.2726287\ttotal: 23.6s\tremaining: 3.84s\n",
      "86:\tlearn: 5.2722435\ttotal: 23.9s\tremaining: 3.56s\n",
      "87:\tlearn: 5.2712968\ttotal: 24.1s\tremaining: 3.28s\n",
      "88:\tlearn: 5.2707137\ttotal: 24.3s\tremaining: 3s\n",
      "89:\tlearn: 5.2704541\ttotal: 24.6s\tremaining: 2.73s\n",
      "90:\tlearn: 5.2702732\ttotal: 24.9s\tremaining: 2.46s\n",
      "91:\tlearn: 5.2700327\ttotal: 25.2s\tremaining: 2.19s\n",
      "92:\tlearn: 5.2694410\ttotal: 25.5s\tremaining: 1.92s\n",
      "93:\tlearn: 5.2688443\ttotal: 25.8s\tremaining: 1.64s\n",
      "94:\tlearn: 5.2680357\ttotal: 26s\tremaining: 1.37s\n",
      "95:\tlearn: 5.2675754\ttotal: 26.3s\tremaining: 1.09s\n",
      "96:\tlearn: 5.2671481\ttotal: 26.6s\tremaining: 822ms\n",
      "97:\tlearn: 5.2662967\ttotal: 26.8s\tremaining: 547ms\n",
      "98:\tlearn: 5.2660767\ttotal: 27.1s\tremaining: 274ms\n",
      "99:\tlearn: 5.2658733\ttotal: 27.4s\tremaining: 0us\n"
     ]
    },
    {
     "data": {
      "text/plain": [
       "<catboost.core.CatBoostRegressor at 0x1f1dde07e80>"
      ]
     },
     "execution_count": 40,
     "metadata": {},
     "output_type": "execute_result"
    }
   ],
   "source": [
    "cat = CatBoostRegressor(n_estimators= 100, random_state= 42)\n",
    "cat.fit(X_train, y_train)"
   ]
  },
  {
   "cell_type": "code",
   "execution_count": 41,
   "id": "6646ee1304d01d3b",
   "metadata": {
    "ExecuteTime": {
     "end_time": "2024-05-12T01:11:56.598106300Z",
     "start_time": "2024-05-12T01:11:56.526003200Z"
    },
    "collapsed": false,
    "jupyter": {
     "outputs_hidden": false
    }
   },
   "outputs": [],
   "source": [
    "y_pred = cat.predict(X_test)"
   ]
  },
  {
   "cell_type": "code",
   "execution_count": 42,
   "id": "c82ccedd1cf52569",
   "metadata": {
    "ExecuteTime": {
     "end_time": "2024-05-12T01:11:56.681971Z",
     "start_time": "2024-05-12T01:11:56.587253700Z"
    },
    "collapsed": false,
    "jupyter": {
     "outputs_hidden": false
    }
   },
   "outputs": [
    {
     "name": "stdout",
     "output_type": "stream",
     "text": [
      "Mean Absolute Error: 2.672452467532947\n",
      "Root Mean Squared Error: 9.148002874762264\n",
      "Mean squared error: 83.68595659665866\n",
      "R2 Score: 0.8338095238230863\n"
     ]
    }
   ],
   "source": [
    "print(\"Mean Absolute Error:\", mean_absolute_error(y_test, y_pred))\n",
    "print(\"Root Mean Squared Error:\", np.sqrt(mean_squared_error(y_test,y_pred)))\n",
    "print('Mean squared error:', mean_squared_error(y_test, y_pred))\n",
    "print('R2 Score:', r2_score(y_test, y_pred))"
   ]
  },
  {
   "cell_type": "code",
   "execution_count": 43,
   "id": "93b642045232bffd",
   "metadata": {
    "ExecuteTime": {
     "end_time": "2024-05-12T01:12:00.156814600Z",
     "start_time": "2024-05-12T01:11:56.680922800Z"
    },
    "collapsed": false,
    "jupyter": {
     "outputs_hidden": false
    }
   },
   "outputs": [
    {
     "data": {
      "image/png": "[encoded data removed]",
      "text/plain": [
       "<Figure size 640x480 with 1 Axes>"
      ]
     },
     "metadata": {},
     "output_type": "display_data"
    }
   ],
   "source": [
    "plt.plot(y_pred, y_test, 'o')\n",
    "plt.plot([y_test.min(), 600], [y_test.min(), 600], 'k--', lw= 4)\n",
    "plt.xlabel('Predicted')\n",
    "plt.ylabel('Measured')\n",
    "plt.show()"
   ]
  },
  {
   "cell_type": "code",
   "execution_count": 44,
   "id": "338342d93e7f0470",
   "metadata": {
    "ExecuteTime": {
     "end_time": "2024-05-12T01:12:00.168905200Z",
     "start_time": "2024-05-12T01:12:00.149129900Z"
    },
    "collapsed": false,
    "jupyter": {
     "outputs_hidden": false
    }
   },
   "outputs": [
    {
     "data": {
      "text/html": [
       "<div>\n",
       "<style scoped>\n",
       "    .dataframe tbody tr th:only-of-type {\n",
       "        vertical-align: middle;\n",
       "    }\n",
       "\n",
       "    .dataframe tbody tr th {\n",
       "        vertical-align: top;\n",
       "    }\n",
       "\n",
       "    .dataframe thead th {\n",
       "        text-align: right;\n",
       "    }\n",
       "</style>\n",
       "<table border=\"1\" class=\"dataframe\">\n",
       "  <thead>\n",
       "    <tr style=\"text-align: right;\">\n",
       "      <th></th>\n",
       "      <th>tpep_pickup_datetime</th>\n",
       "      <th>tpep_dropoff_datetime</th>\n",
       "      <th>passenger_count</th>\n",
       "      <th>trip_distance</th>\n",
       "      <th>RatecodeID</th>\n",
       "      <th>store_and_fwd_flag</th>\n",
       "      <th>PULocationID</th>\n",
       "      <th>DOLocationID</th>\n",
       "      <th>payment_type</th>\n",
       "      <th>fare_amount</th>\n",
       "      <th>extra</th>\n",
       "      <th>mta_tax</th>\n",
       "      <th>tip_amount</th>\n",
       "      <th>tolls_amount</th>\n",
       "      <th>improvement_surcharge</th>\n",
       "      <th>total_amount</th>\n",
       "      <th>trip_duration</th>\n",
       "      <th>day_of_week</th>\n",
       "    </tr>\n",
       "  </thead>\n",
       "  <tbody>\n",
       "    <tr>\n",
       "      <th>0</th>\n",
       "      <td>2024-01-01 00:57:55</td>\n",
       "      <td>2024-01-01 01:17:43</td>\n",
       "      <td>1.0</td>\n",
       "      <td>1.72</td>\n",
       "      <td>1.0</td>\n",
       "      <td>N</td>\n",
       "      <td>186.0</td>\n",
       "      <td>79.0</td>\n",
       "      <td>2.0</td>\n",
       "      <td>17.7</td>\n",
       "      <td>1.0</td>\n",
       "      <td>0.5</td>\n",
       "      <td>0.00</td>\n",
       "      <td>0.0</td>\n",
       "      <td>1.0</td>\n",
       "      <td>22.70</td>\n",
       "      <td>19.80</td>\n",
       "      <td>Monday</td>\n",
       "    </tr>\n",
       "    <tr>\n",
       "      <th>1</th>\n",
       "      <td>2024-01-01 00:03:00</td>\n",
       "      <td>2024-01-01 00:09:36</td>\n",
       "      <td>1.0</td>\n",
       "      <td>1.80</td>\n",
       "      <td>1.0</td>\n",
       "      <td>N</td>\n",
       "      <td>140.0</td>\n",
       "      <td>236.0</td>\n",
       "      <td>1.0</td>\n",
       "      <td>10.0</td>\n",
       "      <td>3.5</td>\n",
       "      <td>0.5</td>\n",
       "      <td>3.75</td>\n",
       "      <td>0.0</td>\n",
       "      <td>1.0</td>\n",
       "      <td>18.75</td>\n",
       "      <td>6.60</td>\n",
       "      <td>Monday</td>\n",
       "    </tr>\n",
       "    <tr>\n",
       "      <th>2</th>\n",
       "      <td>2024-01-01 00:17:06</td>\n",
       "      <td>2024-01-01 00:35:01</td>\n",
       "      <td>1.0</td>\n",
       "      <td>4.70</td>\n",
       "      <td>1.0</td>\n",
       "      <td>N</td>\n",
       "      <td>236.0</td>\n",
       "      <td>79.0</td>\n",
       "      <td>1.0</td>\n",
       "      <td>23.3</td>\n",
       "      <td>3.5</td>\n",
       "      <td>0.5</td>\n",
       "      <td>3.00</td>\n",
       "      <td>0.0</td>\n",
       "      <td>1.0</td>\n",
       "      <td>31.30</td>\n",
       "      <td>17.92</td>\n",
       "      <td>Monday</td>\n",
       "    </tr>\n",
       "    <tr>\n",
       "      <th>3</th>\n",
       "      <td>2024-01-01 00:36:38</td>\n",
       "      <td>2024-01-01 00:44:56</td>\n",
       "      <td>1.0</td>\n",
       "      <td>1.40</td>\n",
       "      <td>1.0</td>\n",
       "      <td>N</td>\n",
       "      <td>79.0</td>\n",
       "      <td>211.0</td>\n",
       "      <td>1.0</td>\n",
       "      <td>10.0</td>\n",
       "      <td>3.5</td>\n",
       "      <td>0.5</td>\n",
       "      <td>2.00</td>\n",
       "      <td>0.0</td>\n",
       "      <td>1.0</td>\n",
       "      <td>17.00</td>\n",
       "      <td>8.30</td>\n",
       "      <td>Monday</td>\n",
       "    </tr>\n",
       "    <tr>\n",
       "      <th>4</th>\n",
       "      <td>2024-01-01 00:46:51</td>\n",
       "      <td>2024-01-01 00:52:57</td>\n",
       "      <td>1.0</td>\n",
       "      <td>0.80</td>\n",
       "      <td>1.0</td>\n",
       "      <td>N</td>\n",
       "      <td>211.0</td>\n",
       "      <td>148.0</td>\n",
       "      <td>1.0</td>\n",
       "      <td>7.9</td>\n",
       "      <td>3.5</td>\n",
       "      <td>0.5</td>\n",
       "      <td>3.20</td>\n",
       "      <td>0.0</td>\n",
       "      <td>1.0</td>\n",
       "      <td>16.10</td>\n",
       "      <td>6.10</td>\n",
       "      <td>Monday</td>\n",
       "    </tr>\n",
       "  </tbody>\n",
       "</table>\n",
       "</div>"
      ],
      "text/plain": [
       "  tpep_pickup_datetime tpep_dropoff_datetime  passenger_count  trip_distance  \\\n",
       "0  2024-01-01 00:57:55   2024-01-01 01:17:43              1.0           1.72   \n",
       "1  2024-01-01 00:03:00   2024-01-01 00:09:36              1.0           1.80   \n",
       "2  2024-01-01 00:17:06   2024-01-01 00:35:01              1.0           4.70   \n",
       "3  2024-01-01 00:36:38   2024-01-01 00:44:56              1.0           1.40   \n",
       "4  2024-01-01 00:46:51   2024-01-01 00:52:57              1.0           0.80   \n",
       "\n",
       "   RatecodeID store_and_fwd_flag  PULocationID  DOLocationID  payment_type  \\\n",
       "0         1.0                  N         186.0          79.0           2.0   \n",
       "1         1.0                  N         140.0         236.0           1.0   \n",
       "2         1.0                  N         236.0          79.0           1.0   \n",
       "3         1.0                  N          79.0         211.0           1.0   \n",
       "4         1.0                  N         211.0         148.0           1.0   \n",
       "\n",
       "   fare_amount  extra  mta_tax  tip_amount  tolls_amount  \\\n",
       "0         17.7    1.0      0.5        0.00           0.0   \n",
       "1         10.0    3.5      0.5        3.75           0.0   \n",
       "2         23.3    3.5      0.5        3.00           0.0   \n",
       "3         10.0    3.5      0.5        2.00           0.0   \n",
       "4          7.9    3.5      0.5        3.20           0.0   \n",
       "\n",
       "   improvement_surcharge  total_amount  trip_duration day_of_week  \n",
       "0                    1.0         22.70          19.80      Monday  \n",
       "1                    1.0         18.75           6.60      Monday  \n",
       "2                    1.0         31.30          17.92      Monday  \n",
       "3                    1.0         17.00           8.30      Monday  \n",
       "4                    1.0         16.10           6.10      Monday  "
      ]
     },
     "execution_count": 44,
     "metadata": {},
     "output_type": "execute_result"
    }
   ],
   "source": [
    "df.head()"
   ]
  },
  {
   "cell_type": "code",
   "execution_count": 45,
   "id": "9f415afb7151ec36",
   "metadata": {
    "ExecuteTime": {
     "end_time": "2024-05-12T01:12:00.257701100Z",
     "start_time": "2024-05-12T01:12:00.165436900Z"
    },
    "collapsed": false,
    "jupyter": {
     "outputs_hidden": false
    }
   },
   "outputs": [],
   "source": [
    "from xgboost import XGBRegressor"
   ]
  },
  {
   "cell_type": "code",
   "execution_count": 46,
   "id": "b0272b0744157ce6",
   "metadata": {
    "ExecuteTime": {
     "end_time": "2024-05-12T01:12:13.230642800Z",
     "start_time": "2024-05-12T01:12:00.183591600Z"
    },
    "collapsed": false,
    "jupyter": {
     "outputs_hidden": false
    }
   },
   "outputs": [
    {
     "data": {
      "text/html": [
       "<style>#sk-container-id-1 {color: black;}#sk-container-id-1 pre{padding: 0;}#sk-container-id-1 div.sk-toggleable {background-color: white;}#sk-container-id-1 label.sk-toggleable__label {cursor: pointer;display: block;width: 100%;margin-bottom: 0;padding: 0.3em;box-sizing: border-box;text-align: center;}#sk-container-id-1 label.sk-toggleable__label-arrow:before {content: \"▸\";float: left;margin-right: 0.25em;color: #696969;}#sk-container-id-1 label.sk-toggleable__label-arrow:hover:before {color: black;}#sk-container-id-1 div.sk-estimator:hover label.sk-toggleable__label-arrow:before {color: black;}#sk-container-id-1 div.sk-toggleable__content {max-height: 0;max-width: 0;overflow: hidden;text-align: left;background-color: #f0f8ff;}#sk-container-id-1 div.sk-toggleable__content pre {margin: 0.2em;color: black;border-radius: 0.25em;background-color: #f0f8ff;}#sk-container-id-1 input.sk-toggleable__control:checked~div.sk-toggleable__content {max-height: 200px;max-width: 100%;overflow: auto;}#sk-container-id-1 input.sk-toggleable__control:checked~label.sk-toggleable__label-arrow:before {content: \"▾\";}#sk-container-id-1 div.sk-estimator input.sk-toggleable__control:checked~label.sk-toggleable__label {background-color: #d4ebff;}#sk-container-id-1 div.sk-label input.sk-toggleable__control:checked~label.sk-toggleable__label {background-color: #d4ebff;}#sk-container-id-1 input.sk-hidden--visually {border: 0;clip: rect(1px 1px 1px 1px);clip: rect(1px, 1px, 1px, 1px);height: 1px;margin: -1px;overflow: hidden;padding: 0;position: absolute;width: 1px;}#sk-container-id-1 div.sk-estimator {font-family: monospace;background-color: #f0f8ff;border: 1px dotted black;border-radius: 0.25em;box-sizing: border-box;margin-bottom: 0.5em;}#sk-container-id-1 div.sk-estimator:hover {background-color: #d4ebff;}#sk-container-id-1 div.sk-parallel-item::after {content: \"\";width: 100%;border-bottom: 1px solid gray;flex-grow: 1;}#sk-container-id-1 div.sk-label:hover label.sk-toggleable__label {background-color: #d4ebff;}#sk-container-id-1 div.sk-serial::before {content: \"\";position: absolute;border-left: 1px solid gray;box-sizing: border-box;top: 0;bottom: 0;left: 50%;z-index: 0;}#sk-container-id-1 div.sk-serial {display: flex;flex-direction: column;align-items: center;background-color: white;padding-right: 0.2em;padding-left: 0.2em;position: relative;}#sk-container-id-1 div.sk-item {position: relative;z-index: 1;}#sk-container-id-1 div.sk-parallel {display: flex;align-items: stretch;justify-content: center;background-color: white;position: relative;}#sk-container-id-1 div.sk-item::before, #sk-container-id-1 div.sk-parallel-item::before {content: \"\";position: absolute;border-left: 1px solid gray;box-sizing: border-box;top: 0;bottom: 0;left: 50%;z-index: -1;}#sk-container-id-1 div.sk-parallel-item {display: flex;flex-direction: column;z-index: 1;position: relative;background-color: white;}#sk-container-id-1 div.sk-parallel-item:first-child::after {align-self: flex-end;width: 50%;}#sk-container-id-1 div.sk-parallel-item:last-child::after {align-self: flex-start;width: 50%;}#sk-container-id-1 div.sk-parallel-item:only-child::after {width: 0;}#sk-container-id-1 div.sk-dashed-wrapped {border: 1px dashed gray;margin: 0 0.4em 0.5em 0.4em;box-sizing: border-box;padding-bottom: 0.4em;background-color: white;}#sk-container-id-1 div.sk-label label {font-family: monospace;font-weight: bold;display: inline-block;line-height: 1.2em;}#sk-container-id-1 div.sk-label-container {text-align: center;}#sk-container-id-1 div.sk-container {/* jupyter's `normalize.less` sets `[hidden] { display: none; }` but bootstrap.min.css set `[hidden] { display: none !important; }` so we also need the `!important` here to be able to override the default hidden behavior on the sphinx rendered scikit-learn.org. See: https://github.com/scikit-learn/scikit-learn/issues/21755 */display: inline-block !important;position: relative;}#sk-container-id-1 div.sk-text-repr-fallback {display: none;}</style><div id=\"sk-container-id-1\" class=\"sk-top-container\"><div class=\"sk-text-repr-fallback\"><pre>XGBRegressor(base_score=None, booster=None, callbacks=None,\n",
       "             colsample_bylevel=None, colsample_bynode=None,\n",
       "             colsample_bytree=None, device=None, early_stopping_rounds=None,\n",
       "             enable_categorical=False, eval_metric=None, feature_types=None,\n",
       "             gamma=None, grow_policy=None, importance_type=None,\n",
       "             interaction_constraints=None, learning_rate=None, max_bin=None,\n",
       "             max_cat_threshold=None, max_cat_to_onehot=None,\n",
       "             max_delta_step=None, max_depth=None, max_leaves=None,\n",
       "             min_child_weight=None, missing=nan, monotone_constraints=None,\n",
       "             multi_strategy=None, n_estimators=100, n_jobs=None,\n",
       "             num_parallel_tree=None, random_state=42, ...)</pre><b>In a Jupyter environment, please rerun this cell to show the HTML representation or trust the notebook. <br />On GitHub, the HTML representation is unable to render, please try loading this page with nbviewer.org.</b></div><div class=\"sk-container\" hidden><div class=\"sk-item\"><div class=\"sk-estimator sk-toggleable\"><input class=\"sk-toggleable__control sk-hidden--visually\" id=\"sk-estimator-id-1\" type=\"checkbox\" checked><label for=\"sk-estimator-id-1\" class=\"sk-toggleable__label sk-toggleable__label-arrow\">XGBRegressor</label><div class=\"sk-toggleable__content\"><pre>XGBRegressor(base_score=None, booster=None, callbacks=None,\n",
       "             colsample_bylevel=None, colsample_bynode=None,\n",
       "             colsample_bytree=None, device=None, early_stopping_rounds=None,\n",
       "             enable_categorical=False, eval_metric=None, feature_types=None,\n",
       "             gamma=None, grow_policy=None, importance_type=None,\n",
       "             interaction_constraints=None, learning_rate=None, max_bin=None,\n",
       "             max_cat_threshold=None, max_cat_to_onehot=None,\n",
       "             max_delta_step=None, max_depth=None, max_leaves=None,\n",
       "             min_child_weight=None, missing=nan, monotone_constraints=None,\n",
       "             multi_strategy=None, n_estimators=100, n_jobs=None,\n",
       "             num_parallel_tree=None, random_state=42, ...)</pre></div></div></div></div></div>"
      ],
      "text/plain": [
       "XGBRegressor(base_score=None, booster=None, callbacks=None,\n",
       "             colsample_bylevel=None, colsample_bynode=None,\n",
       "             colsample_bytree=None, device=None, early_stopping_rounds=None,\n",
       "             enable_categorical=False, eval_metric=None, feature_types=None,\n",
       "             gamma=None, grow_policy=None, importance_type=None,\n",
       "             interaction_constraints=None, learning_rate=None, max_bin=None,\n",
       "             max_cat_threshold=None, max_cat_to_onehot=None,\n",
       "             max_delta_step=None, max_depth=None, max_leaves=None,\n",
       "             min_child_weight=None, missing=nan, monotone_constraints=None,\n",
       "             multi_strategy=None, n_estimators=100, n_jobs=None,\n",
       "             num_parallel_tree=None, random_state=42, ...)"
      ]
     },
     "execution_count": 46,
     "metadata": {},
     "output_type": "execute_result"
    }
   ],
   "source": [
    "xgb = XGBRegressor(n_estimators= 100, random_state= 42)\n",
    "xgb.fit(X_train, y_train)"
   ]
  },
  {
   "cell_type": "code",
   "execution_count": 47,
   "id": "d94407cbc9797e1a",
   "metadata": {
    "ExecuteTime": {
     "end_time": "2024-05-12T01:12:13.814489100Z",
     "start_time": "2024-05-12T01:12:13.219131300Z"
    },
    "collapsed": false,
    "jupyter": {
     "outputs_hidden": false
    }
   },
   "outputs": [],
   "source": [
    "y_pred = xgb.predict(X_test)"
   ]
  },
  {
   "cell_type": "code",
   "execution_count": 48,
   "id": "6bc666457f6889e0",
   "metadata": {
    "ExecuteTime": {
     "end_time": "2024-05-12T01:12:13.929150500Z",
     "start_time": "2024-05-12T01:12:13.814994300Z"
    },
    "collapsed": false,
    "jupyter": {
     "outputs_hidden": false
    }
   },
   "outputs": [
    {
     "name": "stdout",
     "output_type": "stream",
     "text": [
      "Mean Absolute Error: 2.6688380834121572\n",
      "Root Mean Squared Error: 9.11258117679699\n",
      "Mean squared error: 83.0391357037148\n",
      "R2 Score: 0.8350940341109666\n"
     ]
    }
   ],
   "source": [
    "print(\"Mean Absolute Error:\", mean_absolute_error(y_test, y_pred))\n",
    "print(\"Root Mean Squared Error:\", np.sqrt(mean_squared_error(y_test,y_pred)))\n",
    "print('Mean squared error:', mean_squared_error(y_test, y_pred))\n",
    "print('R2 Score:', r2_score(y_test, y_pred))"
   ]
  },
  {
   "cell_type": "code",
   "execution_count": 49,
   "id": "503954a3d9f8cbb8",
   "metadata": {
    "ExecuteTime": {
     "end_time": "2024-05-12T01:12:25.863324900Z",
     "start_time": "2024-05-12T01:12:22.376221600Z"
    },
    "collapsed": false,
    "jupyter": {
     "outputs_hidden": false
    }
   },
   "outputs": [
    {
     "data": {
      "image/png": "[encoded data removed]",
      "text/plain": [
       "<Figure size 640x480 with 1 Axes>"
      ]
     },
     "metadata": {},
     "output_type": "display_data"
    }
   ],
   "source": [
    "plt.plot(y_pred, y_test, 'o')\n",
    "plt.plot([y_test.min(), 600], [y_test.min(), 600], 'k--', lw= 4)\n",
    "plt.xlabel('Predicted')\n",
    "plt.ylabel('Measured')\n",
    "plt.show()"
   ]
  }
 ],
 "metadata": {
  "kernelspec": {
   "display_name": "Python 3 (ipykernel)",
   "language": "python",
   "name": "python3"
  },
  "language_info": {
   "codemirror_mode": {
    "name": "ipython",
    "version": 3
   },
   "file_extension": ".py",
   "mimetype": "text/x-python",
   "name": "python",
   "nbconvert_exporter": "python",
   "pygments_lexer": "ipython3",
   "version": "3.10.8"
  }
 },
 "nbformat": 4,
 "nbformat_minor": 5
}
